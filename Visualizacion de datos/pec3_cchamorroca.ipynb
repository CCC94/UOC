{
 "cells": [
  {
   "cell_type": "markdown",
   "id": "b02242d9",
   "metadata": {},
   "source": [
    "# PEC 3 - Visualización de datos\n"
   ]
  },
  {
   "cell_type": "markdown",
   "id": "ada9ebae",
   "metadata": {},
   "source": [
    "## Carlos Chamorro"
   ]
  },
  {
   "cell_type": "markdown",
   "id": "53c116ae",
   "metadata": {},
   "source": [
    "### Historial de incendios en Navarra desde 1986 - 2019 "
   ]
  },
  {
   "cell_type": "markdown",
   "id": "14ea14da",
   "metadata": {},
   "source": [
    "Para esta presentación en forma de storytelling he escogido el dataset FOREST_Pol_HCoIncendio a traves de la url \"https://data.europa.eu/data/datasets/spasitnaforest_pol_hcoincendio-xml?locale=it\""
   ]
  },
  {
   "cell_type": "code",
   "execution_count": 1,
   "id": "d91c41f2",
   "metadata": {},
   "outputs": [],
   "source": [
    "from IPython.display import Image"
   ]
  },
  {
   "cell_type": "markdown",
   "id": "a968aaf3",
   "metadata": {},
   "source": [
    "![title](figura1.png)\n"
   ]
  },
  {
   "cell_type": "markdown",
   "id": "ead78b4f",
   "metadata": {},
   "source": [
    "Podemos apreciar que 2011 es el año con un mayor número de incendios y, al mismo tiempo el lapso de tiempo entre 2008 a 2012, reflejan un mayor número de incendios en comparación con el resto de años."
   ]
  },
  {
   "cell_type": "markdown",
   "id": "ade1b487",
   "metadata": {},
   "source": [
    "![title](figura2_1.png)"
   ]
  },
  {
   "cell_type": "markdown",
   "id": "fc102e61",
   "metadata": {},
   "source": [
    "Al observar el area quemada por año y municipio podemos apreciar los incendios más devastadores de los últimos 30 años en Navarra. El incendio mas grave se dio en 2016 en Tafalla. Para hacernos una idea de las dimensiones de este, lo visualizaremmos en el mapa"
   ]
  },
  {
   "cell_type": "markdown",
   "id": "7dfdd47f",
   "metadata": {},
   "source": [
    "![title](2016_lejos.png)"
   ]
  },
  {
   "cell_type": "markdown",
   "id": "dbb64faa",
   "metadata": {},
   "source": [
    "![title](tafalla.png)"
   ]
  },
  {
   "cell_type": "markdown",
   "id": "397cab3b",
   "metadata": {},
   "source": [
    "El segundo y tercer incendio más importantes de Navarra fueron Sunbilla, 1989, y Petilla de Aragón 1994"
   ]
  },
  {
   "cell_type": "markdown",
   "id": "bdcd622d",
   "metadata": {},
   "source": [
    "![title](sunbilla.png)"
   ]
  },
  {
   "cell_type": "markdown",
   "id": "afa07a70",
   "metadata": {},
   "source": [
    "![title](petilla.png)"
   ]
  },
  {
   "cell_type": "markdown",
   "id": "cd5c928f",
   "metadata": {},
   "source": [
    "Como curiosidad, Petilla de Aragón queda aislada del resto de Navarra. Podemos ver que gran parte de este área se quemó."
   ]
  },
  {
   "cell_type": "markdown",
   "id": "20bd0493",
   "metadata": {},
   "source": [
    "![title](figura3.png)"
   ]
  },
  {
   "cell_type": "markdown",
   "id": "6374713c",
   "metadata": {},
   "source": [
    "Resultará interesante saber cuáles son los municipios con más incendios. En Navarra Baztan se lleva este dudoso honor"
   ]
  },
  {
   "cell_type": "markdown",
   "id": "19c85c6e",
   "metadata": {},
   "source": [
    "![title](figura4.png)"
   ]
  },
  {
   "cell_type": "markdown",
   "id": "9f88d8cf",
   "metadata": {},
   "source": [
    "No obstante, al comparar la superficie quemada vemos que el impacto de los incendios de tafalla, Sumbilla y Petilla de Aragón han tenido un gran impacto."
   ]
  },
  {
   "cell_type": "markdown",
   "id": "72b18098",
   "metadata": {},
   "source": [
    "Por último, observamos en forma de gif e historial de incendios sobre el mapa."
   ]
  },
  {
   "cell_type": "code",
   "execution_count": 10,
   "id": "1fc57835",
   "metadata": {},
   "outputs": [
    {
     "data": {
      "text/html": [
       "<video src=\"incendios.mp4\" controls  >\n",
       "      Your browser does not support the <code>video</code> element.\n",
       "    </video>"
      ],
      "text/plain": [
       "<IPython.core.display.Video object>"
      ]
     },
     "execution_count": 10,
     "metadata": {},
     "output_type": "execute_result"
    }
   ],
   "source": [
    "from IPython.display import Video\n",
    "\n",
    "Video(\"incendios.mp4\")"
   ]
  }
 ],
 "metadata": {
  "kernelspec": {
   "display_name": "Python 3 (ipykernel)",
   "language": "python",
   "name": "python3"
  },
  "language_info": {
   "codemirror_mode": {
    "name": "ipython",
    "version": 3
   },
   "file_extension": ".py",
   "mimetype": "text/x-python",
   "name": "python",
   "nbconvert_exporter": "python",
   "pygments_lexer": "ipython3",
   "version": "3.9.7"
  }
 },
 "nbformat": 4,
 "nbformat_minor": 5
}
