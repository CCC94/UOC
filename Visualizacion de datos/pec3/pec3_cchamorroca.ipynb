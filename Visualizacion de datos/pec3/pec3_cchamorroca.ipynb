{
 "cells": [
  {
   "cell_type": "markdown",
   "id": "ab502677",
   "metadata": {},
   "source": [
    "# PEC 3 - Visualización de datos\n"
   ]
  },
  {
   "cell_type": "markdown",
   "id": "b3452b2f",
   "metadata": {},
   "source": [
    "## Carlos Chamorro"
   ]
  },
  {
   "cell_type": "markdown",
   "id": "8dbf8259",
   "metadata": {},
   "source": [
    "### Historial de incendios en Navarra desde 1986 - 2019 "
   ]
  },
  {
   "cell_type": "markdown",
   "id": "a5658881",
   "metadata": {},
   "source": [
    "Para esta presentación en forma de storytelling he escogido el dataset FOREST_Pol_HCoIncendio a traves de la url \"https://data.europa.eu/data/datasets/spasitnaforest_pol_hcoincendio-xml?locale=it\""
   ]
  },
  {
   "cell_type": "code",
   "execution_count": 13,
   "id": "ff1f7c79",
   "metadata": {},
   "outputs": [],
   "source": [
    "from IPython.display import Image"
   ]
  },
  {
   "cell_type": "markdown",
   "id": "e1a72335",
   "metadata": {},
   "source": [
    "![title](figura1.png)\n"
   ]
  },
  {
   "cell_type": "markdown",
   "id": "96312d7a",
   "metadata": {},
   "source": [
    "Podemos apreciar que 2011 es el año con un mayor número de incendios y, al mismo tiempo el lapso de tiempo entre 2008 a 2012, reflejan un mayor número de incendios en comparación con el resto de años."
   ]
  },
  {
   "cell_type": "markdown",
   "id": "12116be2",
   "metadata": {},
   "source": [
    "![title](figura2_1.png)"
   ]
  },
  {
   "cell_type": "markdown",
   "id": "e835187e",
   "metadata": {},
   "source": [
    "Al observar el area quemada por año y municipio podemos apreciar los incendios más devastadores de los últimos 30 años en Navarra. El incendio mas grave se dio en 2016 en Tafalla. Para hacernos una idea de las dimensiones de este, lo visualizaremmos en el mapa"
   ]
  },
  {
   "cell_type": "markdown",
   "id": "a1f9ac88",
   "metadata": {},
   "source": [
    "![title](2016_lejos.png)"
   ]
  },
  {
   "cell_type": "markdown",
   "id": "e7b6b983",
   "metadata": {},
   "source": [
    "![title](tafalla.png)"
   ]
  },
  {
   "cell_type": "markdown",
   "id": "82aaf1fc",
   "metadata": {},
   "source": [
    "El segundo y tercer incendio más importantes de Navarra fueron Sunbilla, 1989, y Petilla de Aragón 1994"
   ]
  },
  {
   "cell_type": "markdown",
   "id": "a1d41105",
   "metadata": {},
   "source": [
    "![title](sunbilla.png)"
   ]
  },
  {
   "cell_type": "markdown",
   "id": "08b7061d",
   "metadata": {},
   "source": [
    "![title](petilla.png)"
   ]
  },
  {
   "cell_type": "markdown",
   "id": "3fa91db7",
   "metadata": {},
   "source": [
    "Como curiosidad, Petilla de Aragón queda aislada del resto de Navarra. Podemos ver que gran parte de este área se quemó."
   ]
  },
  {
   "cell_type": "markdown",
   "id": "f07b4b67",
   "metadata": {},
   "source": [
    "![title](figura3.png)"
   ]
  },
  {
   "cell_type": "markdown",
   "id": "eef6db1a",
   "metadata": {},
   "source": [
    "Resultará interesante saber cuáles son los municipios con más incendios. En Navarra Baztan se lleva este dudoso honor"
   ]
  },
  {
   "cell_type": "markdown",
   "id": "5d3dd0f2",
   "metadata": {},
   "source": [
    "![title](figura4.png)"
   ]
  },
  {
   "cell_type": "markdown",
   "id": "ca55d59e",
   "metadata": {},
   "source": [
    "No obstante, al comparar la superficie quemada vemos que el impacto de los incendios de tafalla, Sumbilla y Petilla de Aragón han tenido un gran impacto."
   ]
  },
  {
   "cell_type": "markdown",
   "id": "ddc45a45",
   "metadata": {},
   "source": [
    "Por último, observamos en forma de gif el historial de incendios sobre el mapa."
   ]
  },
  {
   "cell_type": "markdown",
   "id": "eeb0cc66",
   "metadata": {},
   "source": [
    "\n",
    "\n",
    "![Alt Text](incendios.gif)"
   ]
  }
 ],
 "metadata": {
  "kernelspec": {
   "display_name": "Python 3 (ipykernel)",
   "language": "python",
   "name": "python3"
  },
  "language_info": {
   "codemirror_mode": {
    "name": "ipython",
    "version": 3
   },
   "file_extension": ".py",
   "mimetype": "text/x-python",
   "name": "python",
   "nbconvert_exporter": "python",
   "pygments_lexer": "ipython3",
   "version": "3.9.7"
  }
 },
 "nbformat": 4,
 "nbformat_minor": 5
}
