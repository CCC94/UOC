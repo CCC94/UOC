{
 "cells": [
  {
   "cell_type": "markdown",
   "id": "2dafd055",
   "metadata": {},
   "source": [
    "# Práctica 2: Visualización de datos"
   ]
  },
  {
   "cell_type": "markdown",
   "id": "5e5d67f2",
   "metadata": {},
   "source": [
    "## Estudio del sistema ferroviario de media y larga en la península ibérica"
   ]
  },
  {
   "cell_type": "markdown",
   "id": "e45033e5",
   "metadata": {},
   "source": [
    "Los datos se han obtenido de la dirección url: https://data.renfe.com/dataset/horarios-de-alta-velocidad-larga-distancia-y-media-distancia .\n",
    "Se ha de tener en cuenta que, a pesar de ser datos oficiales ofrecidos por la propia Renfe, estos no muestran datos fiables, por lo que el uso de este set de datos se da con fines puramente académicos"
   ]
  },
  {
   "cell_type": "markdown",
   "id": "a92713a1",
   "metadata": {},
   "source": [
    "Renfe mantiene un total de 599 líneas."
   ]
  },
  {
   "cell_type": "markdown",
   "id": "90765880",
   "metadata": {},
   "source": [
    "### Servicios de Renfe "
   ]
  },
  {
   "cell_type": "markdown",
   "id": "586cbb73",
   "metadata": {},
   "source": [
    "Estudiamos la distribución de los servicios,a tenor de la cantidad de rutas que ofrece cada uno."
   ]
  },
  {
   "cell_type": "markdown",
   "id": "53611447",
   "metadata": {},
   "source": [
    "![My Image](output_9_0.png)"
   ]
  },
  {
   "cell_type": "markdown",
   "id": "a892de70",
   "metadata": {},
   "source": [
    "Vemos que la mayor parte de las rutas pertenecen a sericios de ámbito nacional como MD (media distancia) o Alvia, frente a servicios autonómicos como rodalies."
   ]
  },
  {
   "cell_type": "markdown",
   "id": "46e3e0d5",
   "metadata": {},
   "source": [
    "### 2. Accesibilidad "
   ]
  },
  {
   "cell_type": "markdown",
   "id": "d44e548c",
   "metadata": {},
   "source": [
    "Nos preguntamos por el estado de la accesibilidad para sillas de ruedas en el sistema ferroviario. En el siguiente gráfico observamos la distribución por servicio."
   ]
  },
  {
   "cell_type": "markdown",
   "id": "4fdc3df8",
   "metadata": {},
   "source": [
    "![My Image](output_14_1.png)"
   ]
  },
  {
   "cell_type": "markdown",
   "id": "4feab68a",
   "metadata": {},
   "source": [
    "Parece que rodalies no ofrece en absoluto servicio para personas con movilidad reducida. Esto puede deberse a una mala ibtención de los datos por renfe, por lo que no debemos tomarlo como un dato real."
   ]
  },
  {
   "cell_type": "markdown",
   "id": "be1b444c",
   "metadata": {},
   "source": [
    "Observamos en el mapa la localización de las paradas con accesibilidad."
   ]
  },
  {
   "cell_type": "markdown",
   "id": "dc5e409a",
   "metadata": {},
   "source": [
    "![My Image](accesibilidad.png)"
   ]
  },
  {
   "cell_type": "markdown",
   "id": "daa6f13f",
   "metadata": {},
   "source": [
    "Vemos que, a pesar de que muchos de los servicios ofrecen accesibilidad, la mayor parte de las paradas aún carecen de este tipo de ayuda al consumidor. También podemos observar que muchas de las paradas con acceso a sillas de ruedas se encuentran en centros poblacionales como capitales de provincia. Esto, a pesar de tener lógica, hace que el servicio público no sea una buena solución para personas con discapacidad en entornos rurales."
   ]
  },
  {
   "cell_type": "markdown",
   "id": "77dfd5e4",
   "metadata": {},
   "source": [
    "Vemos que la infraestructura de alta velocidad es más simple que el conjunto de la infraestructura total"
   ]
  },
  {
   "cell_type": "markdown",
   "id": "9c15c7c6",
   "metadata": {},
   "source": [
    "### Distribución de los servicios en el mapa"
   ]
  },
  {
   "cell_type": "markdown",
   "id": "56fffa34",
   "metadata": {},
   "source": [
    "![My Image](distribucion_servicios.png)"
   ]
  },
  {
   "cell_type": "markdown",
   "id": "2239a015",
   "metadata": {},
   "source": [
    "Para comprender mejor la complejidad de los servicios ferroviarios, estudiaremos por separado los servicios de alta velocidad de los demás."
   ]
  },
  {
   "cell_type": "markdown",
   "id": "47ec1593",
   "metadata": {},
   "source": [
    "### Alta velocidad"
   ]
  },
  {
   "cell_type": "markdown",
   "id": "9bd47fee",
   "metadata": {},
   "source": [
    "![My Image](alta_velocidad.png)"
   ]
  },
  {
   "cell_type": "markdown",
   "id": "34b60c90",
   "metadata": {},
   "source": [
    "![My Image](output_31_0.png)"
   ]
  },
  {
   "cell_type": "markdown",
   "id": "f6628514",
   "metadata": {},
   "source": [
    "Vemos que, en efecto, los servicios de alta velocidad representan menos de una quinta parte de los servicios otorgados por Renfe."
   ]
  },
  {
   "cell_type": "markdown",
   "id": "87407fc3",
   "metadata": {},
   "source": [
    "Observamos a continucación los movimientos de los trenes a través del tiempo durante la semana de navidad"
   ]
  },
  {
   "cell_type": "code",
   "execution_count": 220,
   "id": "7cc46e48",
   "metadata": {},
   "outputs": [
    {
     "data": {
      "text/html": [
       "<video src=\"alta_velocidad.mp4\" controls  >\n",
       "      Your browser does not support the <code>video</code> element.\n",
       "    </video>"
      ],
      "text/plain": [
       "<IPython.core.display.Video object>"
      ]
     },
     "execution_count": 220,
     "metadata": {},
     "output_type": "execute_result"
    }
   ],
   "source": [
    "![My Image](output_31_0.png)"
   ]
  },
  {
   "cell_type": "markdown",
   "id": "23f8b988",
   "metadata": {},
   "source": [
    "### Otros servicios"
   ]
  },
  {
   "cell_type": "markdown",
   "id": "4bb18017",
   "metadata": {},
   "source": [
    "Los servicios de media y larga distnacia que no usan infrestructura de alta velocidad suponen más del 80% del total."
   ]
  },
  {
   "cell_type": "markdown",
   "id": "4421c754",
   "metadata": {},
   "source": [
    "![My Image](media_distancia.png)"
   ]
  },
  {
   "cell_type": "markdown",
   "id": "254fa780",
   "metadata": {},
   "source": [
    "Aquí podemos ver, además, como se distribuyen dichos servicios en la península."
   ]
  },
  {
   "cell_type": "code",
   "execution_count": 197,
   "id": "16fcc9c5",
   "metadata": {},
   "outputs": [
    {
     "data": {
      "text/html": [
       "<video src=\"otros_servicios.mp4\" controls  >\n",
       "      Your browser does not support the <code>video</code> element.\n",
       "    </video>"
      ],
      "text/plain": [
       "<IPython.core.display.Video object>"
      ]
     },
     "execution_count": 197,
     "metadata": {},
     "output_type": "execute_result"
    }
   ],
   "source": [
    "Video(\"otros_servicios.mp4\")"
   ]
  },
  {
   "cell_type": "markdown",
   "id": "9399f526",
   "metadata": {},
   "source": [
    "En este clip podemos apreciar la complejidad del sistema durante la semana de navidad del 2022."
   ]
  }
 ],
 "metadata": {
  "kernelspec": {
   "display_name": "Python 3 (ipykernel)",
   "language": "python",
   "name": "python3"
  },
  "language_info": {
   "codemirror_mode": {
    "name": "ipython",
    "version": 3
   },
   "file_extension": ".py",
   "mimetype": "text/x-python",
   "name": "python",
   "nbconvert_exporter": "python",
   "pygments_lexer": "ipython3",
   "version": "3.9.7"
  }
 },
 "nbformat": 4,
 "nbformat_minor": 5
}
