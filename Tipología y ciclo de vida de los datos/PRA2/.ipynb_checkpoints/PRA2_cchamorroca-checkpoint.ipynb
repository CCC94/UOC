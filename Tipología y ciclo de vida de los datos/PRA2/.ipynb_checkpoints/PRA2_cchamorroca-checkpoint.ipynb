{
 "cells": [
  {
   "cell_type": "code",
   "execution_count": null,
   "id": "596eb106",
   "metadata": {},
   "outputs": [],
   "source": [
    "#importamos librerias"
   ]
  },
  {
   "cell_type": "code",
   "execution_count": 188,
   "id": "c5ef2a65",
   "metadata": {},
   "outputs": [],
   "source": [
    "import pandas as pd\n",
    "import csv\n",
    "import numpy as np\n",
    "from scipy import stats\n",
    "import matplotlib.pyplot as plt\n",
    "from sklearn import preprocessing\n",
    "import statistics"
   ]
  },
  {
   "cell_type": "code",
   "execution_count": null,
   "id": "2b89be57",
   "metadata": {},
   "outputs": [],
   "source": [
    "#Cargamos el dataset y obtenemos info relevante"
   ]
  },
  {
   "cell_type": "code",
   "execution_count": 6,
   "id": "36d80f8b",
   "metadata": {},
   "outputs": [
    {
     "name": "stdout",
     "output_type": "stream",
     "text": [
      "number of columns is 15\n",
      "number of rows is 940\n",
      "number of unique ids is 33\n"
     ]
    },
    {
     "data": {
      "text/html": [
       "<div>\n",
       "<style scoped>\n",
       "    .dataframe tbody tr th:only-of-type {\n",
       "        vertical-align: middle;\n",
       "    }\n",
       "\n",
       "    .dataframe tbody tr th {\n",
       "        vertical-align: top;\n",
       "    }\n",
       "\n",
       "    .dataframe thead th {\n",
       "        text-align: right;\n",
       "    }\n",
       "</style>\n",
       "<table border=\"1\" class=\"dataframe\">\n",
       "  <thead>\n",
       "    <tr style=\"text-align: right;\">\n",
       "      <th></th>\n",
       "      <th>Id</th>\n",
       "      <th>TotalSteps</th>\n",
       "      <th>TotalDistance</th>\n",
       "      <th>TrackerDistance</th>\n",
       "      <th>LoggedActivitiesDistance</th>\n",
       "      <th>VeryActiveDistance</th>\n",
       "      <th>ModeratelyActiveDistance</th>\n",
       "      <th>LightActiveDistance</th>\n",
       "      <th>SedentaryActiveDistance</th>\n",
       "      <th>VeryActiveMinutes</th>\n",
       "      <th>FairlyActiveMinutes</th>\n",
       "      <th>LightlyActiveMinutes</th>\n",
       "      <th>SedentaryMinutes</th>\n",
       "      <th>Calories</th>\n",
       "    </tr>\n",
       "  </thead>\n",
       "  <tbody>\n",
       "    <tr>\n",
       "      <th>count</th>\n",
       "      <td>9.400000e+02</td>\n",
       "      <td>940.000000</td>\n",
       "      <td>940.000000</td>\n",
       "      <td>940.000000</td>\n",
       "      <td>940.000000</td>\n",
       "      <td>940.000000</td>\n",
       "      <td>940.000000</td>\n",
       "      <td>940.000000</td>\n",
       "      <td>940.000000</td>\n",
       "      <td>940.000000</td>\n",
       "      <td>940.000000</td>\n",
       "      <td>940.000000</td>\n",
       "      <td>940.000000</td>\n",
       "      <td>940.000000</td>\n",
       "    </tr>\n",
       "    <tr>\n",
       "      <th>mean</th>\n",
       "      <td>4.855407e+09</td>\n",
       "      <td>7637.910638</td>\n",
       "      <td>5.489702</td>\n",
       "      <td>5.475351</td>\n",
       "      <td>0.108171</td>\n",
       "      <td>1.502681</td>\n",
       "      <td>0.567543</td>\n",
       "      <td>3.340819</td>\n",
       "      <td>0.001606</td>\n",
       "      <td>21.164894</td>\n",
       "      <td>13.564894</td>\n",
       "      <td>192.812766</td>\n",
       "      <td>991.210638</td>\n",
       "      <td>2303.609574</td>\n",
       "    </tr>\n",
       "    <tr>\n",
       "      <th>std</th>\n",
       "      <td>2.424805e+09</td>\n",
       "      <td>5087.150742</td>\n",
       "      <td>3.924606</td>\n",
       "      <td>3.907276</td>\n",
       "      <td>0.619897</td>\n",
       "      <td>2.658941</td>\n",
       "      <td>0.883580</td>\n",
       "      <td>2.040655</td>\n",
       "      <td>0.007346</td>\n",
       "      <td>32.844803</td>\n",
       "      <td>19.987404</td>\n",
       "      <td>109.174700</td>\n",
       "      <td>301.267437</td>\n",
       "      <td>718.166862</td>\n",
       "    </tr>\n",
       "    <tr>\n",
       "      <th>min</th>\n",
       "      <td>1.503960e+09</td>\n",
       "      <td>0.000000</td>\n",
       "      <td>0.000000</td>\n",
       "      <td>0.000000</td>\n",
       "      <td>0.000000</td>\n",
       "      <td>0.000000</td>\n",
       "      <td>0.000000</td>\n",
       "      <td>0.000000</td>\n",
       "      <td>0.000000</td>\n",
       "      <td>0.000000</td>\n",
       "      <td>0.000000</td>\n",
       "      <td>0.000000</td>\n",
       "      <td>0.000000</td>\n",
       "      <td>0.000000</td>\n",
       "    </tr>\n",
       "    <tr>\n",
       "      <th>25%</th>\n",
       "      <td>2.320127e+09</td>\n",
       "      <td>3789.750000</td>\n",
       "      <td>2.620000</td>\n",
       "      <td>2.620000</td>\n",
       "      <td>0.000000</td>\n",
       "      <td>0.000000</td>\n",
       "      <td>0.000000</td>\n",
       "      <td>1.945000</td>\n",
       "      <td>0.000000</td>\n",
       "      <td>0.000000</td>\n",
       "      <td>0.000000</td>\n",
       "      <td>127.000000</td>\n",
       "      <td>729.750000</td>\n",
       "      <td>1828.500000</td>\n",
       "    </tr>\n",
       "    <tr>\n",
       "      <th>50%</th>\n",
       "      <td>4.445115e+09</td>\n",
       "      <td>7405.500000</td>\n",
       "      <td>5.245000</td>\n",
       "      <td>5.245000</td>\n",
       "      <td>0.000000</td>\n",
       "      <td>0.210000</td>\n",
       "      <td>0.240000</td>\n",
       "      <td>3.365000</td>\n",
       "      <td>0.000000</td>\n",
       "      <td>4.000000</td>\n",
       "      <td>6.000000</td>\n",
       "      <td>199.000000</td>\n",
       "      <td>1057.500000</td>\n",
       "      <td>2134.000000</td>\n",
       "    </tr>\n",
       "    <tr>\n",
       "      <th>75%</th>\n",
       "      <td>6.962181e+09</td>\n",
       "      <td>10727.000000</td>\n",
       "      <td>7.712500</td>\n",
       "      <td>7.710000</td>\n",
       "      <td>0.000000</td>\n",
       "      <td>2.052500</td>\n",
       "      <td>0.800000</td>\n",
       "      <td>4.782500</td>\n",
       "      <td>0.000000</td>\n",
       "      <td>32.000000</td>\n",
       "      <td>19.000000</td>\n",
       "      <td>264.000000</td>\n",
       "      <td>1229.500000</td>\n",
       "      <td>2793.250000</td>\n",
       "    </tr>\n",
       "    <tr>\n",
       "      <th>max</th>\n",
       "      <td>8.877689e+09</td>\n",
       "      <td>36019.000000</td>\n",
       "      <td>28.030001</td>\n",
       "      <td>28.030001</td>\n",
       "      <td>4.942142</td>\n",
       "      <td>21.920000</td>\n",
       "      <td>6.480000</td>\n",
       "      <td>10.710000</td>\n",
       "      <td>0.110000</td>\n",
       "      <td>210.000000</td>\n",
       "      <td>143.000000</td>\n",
       "      <td>518.000000</td>\n",
       "      <td>1440.000000</td>\n",
       "      <td>4900.000000</td>\n",
       "    </tr>\n",
       "  </tbody>\n",
       "</table>\n",
       "</div>"
      ],
      "text/plain": [
       "                 Id    TotalSteps  TotalDistance  TrackerDistance  \\\n",
       "count  9.400000e+02    940.000000     940.000000       940.000000   \n",
       "mean   4.855407e+09   7637.910638       5.489702         5.475351   \n",
       "std    2.424805e+09   5087.150742       3.924606         3.907276   \n",
       "min    1.503960e+09      0.000000       0.000000         0.000000   \n",
       "25%    2.320127e+09   3789.750000       2.620000         2.620000   \n",
       "50%    4.445115e+09   7405.500000       5.245000         5.245000   \n",
       "75%    6.962181e+09  10727.000000       7.712500         7.710000   \n",
       "max    8.877689e+09  36019.000000      28.030001        28.030001   \n",
       "\n",
       "       LoggedActivitiesDistance  VeryActiveDistance  ModeratelyActiveDistance  \\\n",
       "count                940.000000          940.000000                940.000000   \n",
       "mean                   0.108171            1.502681                  0.567543   \n",
       "std                    0.619897            2.658941                  0.883580   \n",
       "min                    0.000000            0.000000                  0.000000   \n",
       "25%                    0.000000            0.000000                  0.000000   \n",
       "50%                    0.000000            0.210000                  0.240000   \n",
       "75%                    0.000000            2.052500                  0.800000   \n",
       "max                    4.942142           21.920000                  6.480000   \n",
       "\n",
       "       LightActiveDistance  SedentaryActiveDistance  VeryActiveMinutes  \\\n",
       "count           940.000000               940.000000         940.000000   \n",
       "mean              3.340819                 0.001606          21.164894   \n",
       "std               2.040655                 0.007346          32.844803   \n",
       "min               0.000000                 0.000000           0.000000   \n",
       "25%               1.945000                 0.000000           0.000000   \n",
       "50%               3.365000                 0.000000           4.000000   \n",
       "75%               4.782500                 0.000000          32.000000   \n",
       "max              10.710000                 0.110000         210.000000   \n",
       "\n",
       "       FairlyActiveMinutes  LightlyActiveMinutes  SedentaryMinutes  \\\n",
       "count           940.000000            940.000000        940.000000   \n",
       "mean             13.564894            192.812766        991.210638   \n",
       "std              19.987404            109.174700        301.267437   \n",
       "min               0.000000              0.000000          0.000000   \n",
       "25%               0.000000            127.000000        729.750000   \n",
       "50%               6.000000            199.000000       1057.500000   \n",
       "75%              19.000000            264.000000       1229.500000   \n",
       "max             143.000000            518.000000       1440.000000   \n",
       "\n",
       "          Calories  \n",
       "count   940.000000  \n",
       "mean   2303.609574  \n",
       "std     718.166862  \n",
       "min       0.000000  \n",
       "25%    1828.500000  \n",
       "50%    2134.000000  \n",
       "75%    2793.250000  \n",
       "max    4900.000000  "
      ]
     },
     "execution_count": 6,
     "metadata": {},
     "output_type": "execute_result"
    }
   ],
   "source": [
    "df_activity = pd.read_csv('archive/Fitabase Data 4.12.16-5.12.16/dailyActivity_merged.csv')\n",
    "\n",
    "print(f'number of columns is {len(df_activity.columns)}')\n",
    "\n",
    "print(f'number of rows is {len(df_activity)}')\n",
    "\n",
    "print(f'number of unique ids is {len(df_activity.Id.unique())}')\n",
    "\n",
    "pd.DataFrame.describe(df_activity)\n"
   ]
  },
  {
   "cell_type": "code",
   "execution_count": 7,
   "id": "6b11722d",
   "metadata": {},
   "outputs": [
    {
     "data": {
      "text/html": [
       "<div>\n",
       "<style scoped>\n",
       "    .dataframe tbody tr th:only-of-type {\n",
       "        vertical-align: middle;\n",
       "    }\n",
       "\n",
       "    .dataframe tbody tr th {\n",
       "        vertical-align: top;\n",
       "    }\n",
       "\n",
       "    .dataframe thead th {\n",
       "        text-align: right;\n",
       "    }\n",
       "</style>\n",
       "<table border=\"1\" class=\"dataframe\">\n",
       "  <thead>\n",
       "    <tr style=\"text-align: right;\">\n",
       "      <th></th>\n",
       "      <th>Id</th>\n",
       "      <th>ActivityDate</th>\n",
       "      <th>TotalSteps</th>\n",
       "      <th>TotalDistance</th>\n",
       "      <th>TrackerDistance</th>\n",
       "      <th>LoggedActivitiesDistance</th>\n",
       "      <th>VeryActiveDistance</th>\n",
       "      <th>ModeratelyActiveDistance</th>\n",
       "      <th>LightActiveDistance</th>\n",
       "      <th>SedentaryActiveDistance</th>\n",
       "      <th>VeryActiveMinutes</th>\n",
       "      <th>FairlyActiveMinutes</th>\n",
       "      <th>LightlyActiveMinutes</th>\n",
       "      <th>SedentaryMinutes</th>\n",
       "      <th>Calories</th>\n",
       "    </tr>\n",
       "  </thead>\n",
       "  <tbody>\n",
       "    <tr>\n",
       "      <th>0</th>\n",
       "      <td>1503960366</td>\n",
       "      <td>4/12/2016</td>\n",
       "      <td>13162</td>\n",
       "      <td>8.50</td>\n",
       "      <td>8.50</td>\n",
       "      <td>0.0</td>\n",
       "      <td>1.88</td>\n",
       "      <td>0.55</td>\n",
       "      <td>6.06</td>\n",
       "      <td>0.0</td>\n",
       "      <td>25</td>\n",
       "      <td>13</td>\n",
       "      <td>328</td>\n",
       "      <td>728</td>\n",
       "      <td>1985</td>\n",
       "    </tr>\n",
       "    <tr>\n",
       "      <th>1</th>\n",
       "      <td>1503960366</td>\n",
       "      <td>4/13/2016</td>\n",
       "      <td>10735</td>\n",
       "      <td>6.97</td>\n",
       "      <td>6.97</td>\n",
       "      <td>0.0</td>\n",
       "      <td>1.57</td>\n",
       "      <td>0.69</td>\n",
       "      <td>4.71</td>\n",
       "      <td>0.0</td>\n",
       "      <td>21</td>\n",
       "      <td>19</td>\n",
       "      <td>217</td>\n",
       "      <td>776</td>\n",
       "      <td>1797</td>\n",
       "    </tr>\n",
       "    <tr>\n",
       "      <th>2</th>\n",
       "      <td>1503960366</td>\n",
       "      <td>4/14/2016</td>\n",
       "      <td>10460</td>\n",
       "      <td>6.74</td>\n",
       "      <td>6.74</td>\n",
       "      <td>0.0</td>\n",
       "      <td>2.44</td>\n",
       "      <td>0.40</td>\n",
       "      <td>3.91</td>\n",
       "      <td>0.0</td>\n",
       "      <td>30</td>\n",
       "      <td>11</td>\n",
       "      <td>181</td>\n",
       "      <td>1218</td>\n",
       "      <td>1776</td>\n",
       "    </tr>\n",
       "    <tr>\n",
       "      <th>3</th>\n",
       "      <td>1503960366</td>\n",
       "      <td>4/15/2016</td>\n",
       "      <td>9762</td>\n",
       "      <td>6.28</td>\n",
       "      <td>6.28</td>\n",
       "      <td>0.0</td>\n",
       "      <td>2.14</td>\n",
       "      <td>1.26</td>\n",
       "      <td>2.83</td>\n",
       "      <td>0.0</td>\n",
       "      <td>29</td>\n",
       "      <td>34</td>\n",
       "      <td>209</td>\n",
       "      <td>726</td>\n",
       "      <td>1745</td>\n",
       "    </tr>\n",
       "    <tr>\n",
       "      <th>4</th>\n",
       "      <td>1503960366</td>\n",
       "      <td>4/16/2016</td>\n",
       "      <td>12669</td>\n",
       "      <td>8.16</td>\n",
       "      <td>8.16</td>\n",
       "      <td>0.0</td>\n",
       "      <td>2.71</td>\n",
       "      <td>0.41</td>\n",
       "      <td>5.04</td>\n",
       "      <td>0.0</td>\n",
       "      <td>36</td>\n",
       "      <td>10</td>\n",
       "      <td>221</td>\n",
       "      <td>773</td>\n",
       "      <td>1863</td>\n",
       "    </tr>\n",
       "  </tbody>\n",
       "</table>\n",
       "</div>"
      ],
      "text/plain": [
       "           Id ActivityDate  TotalSteps  TotalDistance  TrackerDistance  \\\n",
       "0  1503960366    4/12/2016       13162           8.50             8.50   \n",
       "1  1503960366    4/13/2016       10735           6.97             6.97   \n",
       "2  1503960366    4/14/2016       10460           6.74             6.74   \n",
       "3  1503960366    4/15/2016        9762           6.28             6.28   \n",
       "4  1503960366    4/16/2016       12669           8.16             8.16   \n",
       "\n",
       "   LoggedActivitiesDistance  VeryActiveDistance  ModeratelyActiveDistance  \\\n",
       "0                       0.0                1.88                      0.55   \n",
       "1                       0.0                1.57                      0.69   \n",
       "2                       0.0                2.44                      0.40   \n",
       "3                       0.0                2.14                      1.26   \n",
       "4                       0.0                2.71                      0.41   \n",
       "\n",
       "   LightActiveDistance  SedentaryActiveDistance  VeryActiveMinutes  \\\n",
       "0                 6.06                      0.0                 25   \n",
       "1                 4.71                      0.0                 21   \n",
       "2                 3.91                      0.0                 30   \n",
       "3                 2.83                      0.0                 29   \n",
       "4                 5.04                      0.0                 36   \n",
       "\n",
       "   FairlyActiveMinutes  LightlyActiveMinutes  SedentaryMinutes  Calories  \n",
       "0                   13                   328               728      1985  \n",
       "1                   19                   217               776      1797  \n",
       "2                   11                   181              1218      1776  \n",
       "3                   34                   209               726      1745  \n",
       "4                   10                   221               773      1863  "
      ]
     },
     "execution_count": 7,
     "metadata": {},
     "output_type": "execute_result"
    }
   ],
   "source": [
    "df_activity.head()\n"
   ]
  },
  {
   "cell_type": "code",
   "execution_count": null,
   "id": "2464a9f1",
   "metadata": {},
   "outputs": [],
   "source": [
    "#Cargamos el segundo dataset"
   ]
  },
  {
   "cell_type": "code",
   "execution_count": 8,
   "id": "3b60a92a",
   "metadata": {},
   "outputs": [
    {
     "name": "stdout",
     "output_type": "stream",
     "text": [
      "number of columns is 5\n",
      "number of rows is 413\n",
      "number of unique ids is 24\n"
     ]
    },
    {
     "data": {
      "text/html": [
       "<div>\n",
       "<style scoped>\n",
       "    .dataframe tbody tr th:only-of-type {\n",
       "        vertical-align: middle;\n",
       "    }\n",
       "\n",
       "    .dataframe tbody tr th {\n",
       "        vertical-align: top;\n",
       "    }\n",
       "\n",
       "    .dataframe thead th {\n",
       "        text-align: right;\n",
       "    }\n",
       "</style>\n",
       "<table border=\"1\" class=\"dataframe\">\n",
       "  <thead>\n",
       "    <tr style=\"text-align: right;\">\n",
       "      <th></th>\n",
       "      <th>Id</th>\n",
       "      <th>TotalSleepRecords</th>\n",
       "      <th>TotalMinutesAsleep</th>\n",
       "      <th>TotalTimeInBed</th>\n",
       "    </tr>\n",
       "  </thead>\n",
       "  <tbody>\n",
       "    <tr>\n",
       "      <th>count</th>\n",
       "      <td>4.130000e+02</td>\n",
       "      <td>413.000000</td>\n",
       "      <td>413.000000</td>\n",
       "      <td>413.000000</td>\n",
       "    </tr>\n",
       "    <tr>\n",
       "      <th>mean</th>\n",
       "      <td>5.000979e+09</td>\n",
       "      <td>1.118644</td>\n",
       "      <td>419.467312</td>\n",
       "      <td>458.639225</td>\n",
       "    </tr>\n",
       "    <tr>\n",
       "      <th>std</th>\n",
       "      <td>2.060360e+09</td>\n",
       "      <td>0.345521</td>\n",
       "      <td>118.344679</td>\n",
       "      <td>127.101607</td>\n",
       "    </tr>\n",
       "    <tr>\n",
       "      <th>min</th>\n",
       "      <td>1.503960e+09</td>\n",
       "      <td>1.000000</td>\n",
       "      <td>58.000000</td>\n",
       "      <td>61.000000</td>\n",
       "    </tr>\n",
       "    <tr>\n",
       "      <th>25%</th>\n",
       "      <td>3.977334e+09</td>\n",
       "      <td>1.000000</td>\n",
       "      <td>361.000000</td>\n",
       "      <td>403.000000</td>\n",
       "    </tr>\n",
       "    <tr>\n",
       "      <th>50%</th>\n",
       "      <td>4.702922e+09</td>\n",
       "      <td>1.000000</td>\n",
       "      <td>433.000000</td>\n",
       "      <td>463.000000</td>\n",
       "    </tr>\n",
       "    <tr>\n",
       "      <th>75%</th>\n",
       "      <td>6.962181e+09</td>\n",
       "      <td>1.000000</td>\n",
       "      <td>490.000000</td>\n",
       "      <td>526.000000</td>\n",
       "    </tr>\n",
       "    <tr>\n",
       "      <th>max</th>\n",
       "      <td>8.792010e+09</td>\n",
       "      <td>3.000000</td>\n",
       "      <td>796.000000</td>\n",
       "      <td>961.000000</td>\n",
       "    </tr>\n",
       "  </tbody>\n",
       "</table>\n",
       "</div>"
      ],
      "text/plain": [
       "                 Id  TotalSleepRecords  TotalMinutesAsleep  TotalTimeInBed\n",
       "count  4.130000e+02         413.000000          413.000000      413.000000\n",
       "mean   5.000979e+09           1.118644          419.467312      458.639225\n",
       "std    2.060360e+09           0.345521          118.344679      127.101607\n",
       "min    1.503960e+09           1.000000           58.000000       61.000000\n",
       "25%    3.977334e+09           1.000000          361.000000      403.000000\n",
       "50%    4.702922e+09           1.000000          433.000000      463.000000\n",
       "75%    6.962181e+09           1.000000          490.000000      526.000000\n",
       "max    8.792010e+09           3.000000          796.000000      961.000000"
      ]
     },
     "execution_count": 8,
     "metadata": {},
     "output_type": "execute_result"
    }
   ],
   "source": [
    "df_sleep = pd.read_csv('archive/Fitabase Data 4.12.16-5.12.16/sleepDay_merged.csv')\n",
    "\n",
    "print(f'number of columns is {len(df_sleep.columns)}')\n",
    "\n",
    "print(f'number of rows is {len(df_sleep)}')\n",
    "\n",
    "print(f'number of unique ids is {len(df_sleep.Id.unique())}')\n",
    "df_sleep.isnull().sum(axis = 0)\n",
    "\n",
    "pd.DataFrame.describe(df_sleep)"
   ]
  },
  {
   "cell_type": "code",
   "execution_count": null,
   "id": "3ae9ae50",
   "metadata": {},
   "outputs": [],
   "source": [
    "#Unimos ambos datasets"
   ]
  },
  {
   "cell_type": "code",
   "execution_count": 9,
   "id": "18a4cc53",
   "metadata": {},
   "outputs": [],
   "source": [
    "intersection = np.intersect1d(df_activity.Id.unique(), df_sleep.Id.unique())\n",
    "\n",
    "df_activity = df_activity[df_activity['Id'].isin(intersection)]"
   ]
  },
  {
   "cell_type": "code",
   "execution_count": 10,
   "id": "73aded06",
   "metadata": {},
   "outputs": [],
   "source": [
    "df_activity['ActivityDate'] = pd.to_datetime(df_activity['ActivityDate'])\n",
    "df_sleep['SleepDay'] = pd.to_datetime(df_sleep['SleepDay'])"
   ]
  },
  {
   "cell_type": "code",
   "execution_count": 12,
   "id": "69e2793b",
   "metadata": {},
   "outputs": [],
   "source": [
    "df_merged = pd.merge(df_activity, df_sleep,  how='left', left_on=['Id','ActivityDate'], right_on = ['Id','SleepDay'])\n",
    "\n",
    "df_merged = df_merged.drop(columns=['SleepDay'])\n",
    "df_merged = df_merged.rename(columns = {'ActivityDate':'Date'})\n",
    "\n",
    "df_merged.isnull().sum(axis = 0)\n",
    "\n",
    "df_merged = df_merged[df_merged['TotalSleepRecords'].notna()]"
   ]
  },
  {
   "cell_type": "code",
   "execution_count": null,
   "id": "83472fda",
   "metadata": {},
   "outputs": [],
   "source": [
    "#Reducimos dimensiones del dataset"
   ]
  },
  {
   "cell_type": "code",
   "execution_count": 13,
   "id": "e6d578fa",
   "metadata": {},
   "outputs": [],
   "source": [
    "columns_to_drop = ['TrackerDistance',\n",
    "       'LoggedActivitiesDistance', 'VeryActiveDistance',\n",
    "       'ModeratelyActiveDistance', 'LightActiveDistance',\n",
    "       'SedentaryActiveDistance',\n",
    "       'TotalSleepRecords',  'TotalTimeInBed']\n",
    "\n",
    "df_merged = df_merged.drop(columns = columns_to_drop)"
   ]
  },
  {
   "cell_type": "code",
   "execution_count": null,
   "id": "c3f2be15",
   "metadata": {},
   "outputs": [],
   "source": [
    "#Obtenemos info relevante del nuevo dataframe"
   ]
  },
  {
   "cell_type": "code",
   "execution_count": 14,
   "id": "3c572aff",
   "metadata": {},
   "outputs": [
    {
     "data": {
      "text/html": [
       "<div>\n",
       "<style scoped>\n",
       "    .dataframe tbody tr th:only-of-type {\n",
       "        vertical-align: middle;\n",
       "    }\n",
       "\n",
       "    .dataframe tbody tr th {\n",
       "        vertical-align: top;\n",
       "    }\n",
       "\n",
       "    .dataframe thead th {\n",
       "        text-align: right;\n",
       "    }\n",
       "</style>\n",
       "<table border=\"1\" class=\"dataframe\">\n",
       "  <thead>\n",
       "    <tr style=\"text-align: right;\">\n",
       "      <th></th>\n",
       "      <th>Id</th>\n",
       "      <th>TotalSteps</th>\n",
       "      <th>TotalDistance</th>\n",
       "      <th>VeryActiveMinutes</th>\n",
       "      <th>FairlyActiveMinutes</th>\n",
       "      <th>LightlyActiveMinutes</th>\n",
       "      <th>SedentaryMinutes</th>\n",
       "      <th>Calories</th>\n",
       "      <th>TotalMinutesAsleep</th>\n",
       "    </tr>\n",
       "  </thead>\n",
       "  <tbody>\n",
       "    <tr>\n",
       "      <th>count</th>\n",
       "      <td>4.130000e+02</td>\n",
       "      <td>413.000000</td>\n",
       "      <td>413.000000</td>\n",
       "      <td>413.000000</td>\n",
       "      <td>413.000000</td>\n",
       "      <td>413.000000</td>\n",
       "      <td>413.000000</td>\n",
       "      <td>413.000000</td>\n",
       "      <td>413.000000</td>\n",
       "    </tr>\n",
       "    <tr>\n",
       "      <th>mean</th>\n",
       "      <td>5.000979e+09</td>\n",
       "      <td>8541.140436</td>\n",
       "      <td>6.038620</td>\n",
       "      <td>25.188862</td>\n",
       "      <td>18.038741</td>\n",
       "      <td>216.854722</td>\n",
       "      <td>712.169492</td>\n",
       "      <td>2397.573850</td>\n",
       "      <td>419.467312</td>\n",
       "    </tr>\n",
       "    <tr>\n",
       "      <th>std</th>\n",
       "      <td>2.060360e+09</td>\n",
       "      <td>4156.926990</td>\n",
       "      <td>3.051998</td>\n",
       "      <td>36.388187</td>\n",
       "      <td>22.403590</td>\n",
       "      <td>87.164687</td>\n",
       "      <td>165.957432</td>\n",
       "      <td>762.886326</td>\n",
       "      <td>118.344679</td>\n",
       "    </tr>\n",
       "    <tr>\n",
       "      <th>min</th>\n",
       "      <td>1.503960e+09</td>\n",
       "      <td>17.000000</td>\n",
       "      <td>0.010000</td>\n",
       "      <td>0.000000</td>\n",
       "      <td>0.000000</td>\n",
       "      <td>2.000000</td>\n",
       "      <td>0.000000</td>\n",
       "      <td>257.000000</td>\n",
       "      <td>58.000000</td>\n",
       "    </tr>\n",
       "    <tr>\n",
       "      <th>25%</th>\n",
       "      <td>3.977334e+09</td>\n",
       "      <td>5206.000000</td>\n",
       "      <td>3.600000</td>\n",
       "      <td>0.000000</td>\n",
       "      <td>0.000000</td>\n",
       "      <td>158.000000</td>\n",
       "      <td>631.000000</td>\n",
       "      <td>1850.000000</td>\n",
       "      <td>361.000000</td>\n",
       "    </tr>\n",
       "    <tr>\n",
       "      <th>50%</th>\n",
       "      <td>4.702922e+09</td>\n",
       "      <td>8925.000000</td>\n",
       "      <td>6.290000</td>\n",
       "      <td>9.000000</td>\n",
       "      <td>11.000000</td>\n",
       "      <td>208.000000</td>\n",
       "      <td>717.000000</td>\n",
       "      <td>2220.000000</td>\n",
       "      <td>433.000000</td>\n",
       "    </tr>\n",
       "    <tr>\n",
       "      <th>75%</th>\n",
       "      <td>6.962181e+09</td>\n",
       "      <td>11393.000000</td>\n",
       "      <td>8.030000</td>\n",
       "      <td>38.000000</td>\n",
       "      <td>27.000000</td>\n",
       "      <td>263.000000</td>\n",
       "      <td>783.000000</td>\n",
       "      <td>2926.000000</td>\n",
       "      <td>490.000000</td>\n",
       "    </tr>\n",
       "    <tr>\n",
       "      <th>max</th>\n",
       "      <td>8.792010e+09</td>\n",
       "      <td>22770.000000</td>\n",
       "      <td>17.540001</td>\n",
       "      <td>210.000000</td>\n",
       "      <td>143.000000</td>\n",
       "      <td>518.000000</td>\n",
       "      <td>1265.000000</td>\n",
       "      <td>4900.000000</td>\n",
       "      <td>796.000000</td>\n",
       "    </tr>\n",
       "  </tbody>\n",
       "</table>\n",
       "</div>"
      ],
      "text/plain": [
       "                 Id    TotalSteps  TotalDistance  VeryActiveMinutes  \\\n",
       "count  4.130000e+02    413.000000     413.000000         413.000000   \n",
       "mean   5.000979e+09   8541.140436       6.038620          25.188862   \n",
       "std    2.060360e+09   4156.926990       3.051998          36.388187   \n",
       "min    1.503960e+09     17.000000       0.010000           0.000000   \n",
       "25%    3.977334e+09   5206.000000       3.600000           0.000000   \n",
       "50%    4.702922e+09   8925.000000       6.290000           9.000000   \n",
       "75%    6.962181e+09  11393.000000       8.030000          38.000000   \n",
       "max    8.792010e+09  22770.000000      17.540001         210.000000   \n",
       "\n",
       "       FairlyActiveMinutes  LightlyActiveMinutes  SedentaryMinutes  \\\n",
       "count           413.000000            413.000000        413.000000   \n",
       "mean             18.038741            216.854722        712.169492   \n",
       "std              22.403590             87.164687        165.957432   \n",
       "min               0.000000              2.000000          0.000000   \n",
       "25%               0.000000            158.000000        631.000000   \n",
       "50%              11.000000            208.000000        717.000000   \n",
       "75%              27.000000            263.000000        783.000000   \n",
       "max             143.000000            518.000000       1265.000000   \n",
       "\n",
       "          Calories  TotalMinutesAsleep  \n",
       "count   413.000000          413.000000  \n",
       "mean   2397.573850          419.467312  \n",
       "std     762.886326          118.344679  \n",
       "min     257.000000           58.000000  \n",
       "25%    1850.000000          361.000000  \n",
       "50%    2220.000000          433.000000  \n",
       "75%    2926.000000          490.000000  \n",
       "max    4900.000000          796.000000  "
      ]
     },
     "execution_count": 14,
     "metadata": {},
     "output_type": "execute_result"
    }
   ],
   "source": [
    "df_description = pd.DataFrame.describe(df_merged)\n",
    "df_description"
   ]
  },
  {
   "cell_type": "code",
   "execution_count": null,
   "id": "52a6ed98",
   "metadata": {},
   "outputs": [],
   "source": [
    "#Estudiamos, a continuacion las variables mas importantes"
   ]
  },
  {
   "cell_type": "code",
   "execution_count": 28,
   "id": "36090e51",
   "metadata": {},
   "outputs": [
    {
     "data": {
      "image/png": "[encoded data removed]",
      "text/plain": [
       "<Figure size 432x288 with 1 Axes>"
      ]
     },
     "metadata": {
      "needs_background": "light"
     },
     "output_type": "display_data"
    }
   ],
   "source": [
    "boxplot_TS = pd.DataFrame.boxplot(df_merged['TotalSteps'], return_type='both')\n"
   ]
  },
  {
   "cell_type": "code",
   "execution_count": 78,
   "id": "27a34c6d",
   "metadata": {},
   "outputs": [
    {
     "data": {
      "text/html": [
       "<div>\n",
       "<style scoped>\n",
       "    .dataframe tbody tr th:only-of-type {\n",
       "        vertical-align: middle;\n",
       "    }\n",
       "\n",
       "    .dataframe tbody tr th {\n",
       "        vertical-align: top;\n",
       "    }\n",
       "\n",
       "    .dataframe thead th {\n",
       "        text-align: right;\n",
       "    }\n",
       "</style>\n",
       "<table border=\"1\" class=\"dataframe\">\n",
       "  <thead>\n",
       "    <tr style=\"text-align: right;\">\n",
       "      <th></th>\n",
       "      <th>index</th>\n",
       "      <th>Id</th>\n",
       "      <th>Date</th>\n",
       "      <th>TotalSteps</th>\n",
       "      <th>TotalDistance</th>\n",
       "      <th>VeryActiveMinutes</th>\n",
       "      <th>FairlyActiveMinutes</th>\n",
       "      <th>LightlyActiveMinutes</th>\n",
       "      <th>SedentaryMinutes</th>\n",
       "      <th>Calories</th>\n",
       "      <th>TotalMinutesAsleep</th>\n",
       "    </tr>\n",
       "  </thead>\n",
       "  <tbody>\n",
       "    <tr>\n",
       "      <th>0</th>\n",
       "      <td>321</td>\n",
       "      <td>4388161847</td>\n",
       "      <td>2016-05-07</td>\n",
       "      <td>22770</td>\n",
       "      <td>17.540001</td>\n",
       "      <td>120</td>\n",
       "      <td>56</td>\n",
       "      <td>260</td>\n",
       "      <td>508</td>\n",
       "      <td>4022</td>\n",
       "      <td>472.0</td>\n",
       "    </tr>\n",
       "    <tr>\n",
       "      <th>1</th>\n",
       "      <td>635</td>\n",
       "      <td>8053475328</td>\n",
       "      <td>2016-04-23</td>\n",
       "      <td>22359</td>\n",
       "      <td>17.190001</td>\n",
       "      <td>125</td>\n",
       "      <td>14</td>\n",
       "      <td>223</td>\n",
       "      <td>741</td>\n",
       "      <td>3554</td>\n",
       "      <td>331.0</td>\n",
       "    </tr>\n",
       "  </tbody>\n",
       "</table>\n",
       "</div>"
      ],
      "text/plain": [
       "   index          Id       Date  TotalSteps  TotalDistance  VeryActiveMinutes  \\\n",
       "0    321  4388161847 2016-05-07       22770      17.540001                120   \n",
       "1    635  8053475328 2016-04-23       22359      17.190001                125   \n",
       "\n",
       "   FairlyActiveMinutes  LightlyActiveMinutes  SedentaryMinutes  Calories  \\\n",
       "0                   56                   260               508      4022   \n",
       "1                   14                   223               741      3554   \n",
       "\n",
       "   TotalMinutesAsleep  \n",
       "0               472.0  \n",
       "1               331.0  "
      ]
     },
     "execution_count": 78,
     "metadata": {},
     "output_type": "execute_result"
    }
   ],
   "source": [
    "whiskers = [whiskers.get_ydata() for whiskers in boxplot_TS[1][\"whiskers\"]]\n",
    "\n",
    "df_TS_up = df_merged.loc[df_merged['TotalSteps']>whiskers[1][1]].reset_index()\n",
    "df_TS_up"
   ]
  },
  {
   "cell_type": "code",
   "execution_count": null,
   "id": "bf5dc6a5",
   "metadata": {},
   "outputs": [],
   "source": [
    "# A pesar de ser considerados outliers, podemos entender que la medicion es correcta, por lo que no alteraremos dichos datos"
   ]
  },
  {
   "cell_type": "code",
   "execution_count": null,
   "id": "7326f2e1",
   "metadata": {},
   "outputs": [],
   "source": [
    "#Estudiamos la normalidad de TotalSteps"
   ]
  },
  {
   "cell_type": "code",
   "execution_count": 107,
   "id": "2d3459ff",
   "metadata": {},
   "outputs": [
    {
     "data": {
      "text/plain": [
       "<AxesSubplot:>"
      ]
     },
     "execution_count": 107,
     "metadata": {},
     "output_type": "execute_result"
    },
    {
     "data": {
      "image/png": "[encoded data removed]",
      "text/plain": [
       "<Figure size 432x288 with 1 Axes>"
      ]
     },
     "metadata": {
      "needs_background": "light"
     },
     "output_type": "display_data"
    }
   ],
   "source": [
    "df_merged.TotalSteps.hist()"
   ]
  },
  {
   "cell_type": "code",
   "execution_count": 109,
   "id": "4880dac0",
   "metadata": {},
   "outputs": [
    {
     "data": {
      "text/plain": [
       "ShapiroResult(statistic=0.9864584803581238, pvalue=0.001037420122884214)"
      ]
     },
     "execution_count": 109,
     "metadata": {},
     "output_type": "execute_result"
    }
   ],
   "source": [
    "stats.shapiro(df_merged.TotalSteps)"
   ]
  },
  {
   "cell_type": "code",
   "execution_count": null,
   "id": "da19d8e1",
   "metadata": {},
   "outputs": [],
   "source": [
    "#Rechazamos la hipotesis nula. La distribucion no es normal."
   ]
  },
  {
   "cell_type": "code",
   "execution_count": 89,
   "id": "c8b559b7",
   "metadata": {},
   "outputs": [
    {
     "data": {
      "text/html": [
       "<div>\n",
       "<style scoped>\n",
       "    .dataframe tbody tr th:only-of-type {\n",
       "        vertical-align: middle;\n",
       "    }\n",
       "\n",
       "    .dataframe tbody tr th {\n",
       "        vertical-align: top;\n",
       "    }\n",
       "\n",
       "    .dataframe thead th {\n",
       "        text-align: right;\n",
       "    }\n",
       "</style>\n",
       "<table border=\"1\" class=\"dataframe\">\n",
       "  <thead>\n",
       "    <tr style=\"text-align: right;\">\n",
       "      <th></th>\n",
       "      <th>index</th>\n",
       "      <th>Id</th>\n",
       "      <th>Date</th>\n",
       "      <th>TotalSteps</th>\n",
       "      <th>TotalDistance</th>\n",
       "      <th>VeryActiveMinutes</th>\n",
       "      <th>FairlyActiveMinutes</th>\n",
       "      <th>LightlyActiveMinutes</th>\n",
       "      <th>SedentaryMinutes</th>\n",
       "      <th>Calories</th>\n",
       "      <th>TotalMinutesAsleep</th>\n",
       "    </tr>\n",
       "  </thead>\n",
       "  <tbody>\n",
       "    <tr>\n",
       "      <th>0</th>\n",
       "      <td>457</td>\n",
       "      <td>5577150313</td>\n",
       "      <td>2016-04-17</td>\n",
       "      <td>12231</td>\n",
       "      <td>9.14</td>\n",
       "      <td>200</td>\n",
       "      <td>37</td>\n",
       "      <td>159</td>\n",
       "      <td>525</td>\n",
       "      <td>4552</td>\n",
       "      <td>549.0</td>\n",
       "    </tr>\n",
       "    <tr>\n",
       "      <th>1</th>\n",
       "      <td>471</td>\n",
       "      <td>5577150313</td>\n",
       "      <td>2016-05-01</td>\n",
       "      <td>13368</td>\n",
       "      <td>9.99</td>\n",
       "      <td>194</td>\n",
       "      <td>72</td>\n",
       "      <td>178</td>\n",
       "      <td>499</td>\n",
       "      <td>4546</td>\n",
       "      <td>379.0</td>\n",
       "    </tr>\n",
       "    <tr>\n",
       "      <th>2</th>\n",
       "      <td>491</td>\n",
       "      <td>6117666160</td>\n",
       "      <td>2016-04-21</td>\n",
       "      <td>19542</td>\n",
       "      <td>15.01</td>\n",
       "      <td>11</td>\n",
       "      <td>19</td>\n",
       "      <td>294</td>\n",
       "      <td>579</td>\n",
       "      <td>4900</td>\n",
       "      <td>508.0</td>\n",
       "    </tr>\n",
       "  </tbody>\n",
       "</table>\n",
       "</div>"
      ],
      "text/plain": [
       "   index          Id       Date  TotalSteps  TotalDistance  VeryActiveMinutes  \\\n",
       "0    457  5577150313 2016-04-17       12231           9.14                200   \n",
       "1    471  5577150313 2016-05-01       13368           9.99                194   \n",
       "2    491  6117666160 2016-04-21       19542          15.01                 11   \n",
       "\n",
       "   FairlyActiveMinutes  LightlyActiveMinutes  SedentaryMinutes  Calories  \\\n",
       "0                   37                   159               525      4552   \n",
       "1                   72                   178               499      4546   \n",
       "2                   19                   294               579      4900   \n",
       "\n",
       "   TotalMinutesAsleep  \n",
       "0               549.0  \n",
       "1               379.0  \n",
       "2               508.0  "
      ]
     },
     "execution_count": 89,
     "metadata": {},
     "output_type": "execute_result"
    },
    {
     "data": {
      "image/png": "[encoded data removed]",
      "text/plain": [
       "<Figure size 432x288 with 1 Axes>"
      ]
     },
     "metadata": {
      "needs_background": "light"
     },
     "output_type": "display_data"
    }
   ],
   "source": [
    "boxplot_kCal = df_merged.boxplot(column=[ 'Calories'],return_type='both')\n",
    "whiskers1 = [whiskers.get_ydata() for whiskers in boxplot_kCal[1][\"whiskers\"]]\n",
    "\n",
    "df_kCal_up = df_merged.loc[df_merged['Calories']>whiskers1[1][1]].reset_index()\n",
    "df_kCal_up"
   ]
  },
  {
   "cell_type": "code",
   "execution_count": 179,
   "id": "e90c53cb",
   "metadata": {},
   "outputs": [
    {
     "data": {
      "text/plain": [
       "<AxesSubplot:>"
      ]
     },
     "execution_count": 179,
     "metadata": {},
     "output_type": "execute_result"
    },
    {
     "data": {
      "image/png": "[encoded data removed]",
      "text/plain": [
       "<Figure size 432x288 with 1 Axes>"
      ]
     },
     "metadata": {
      "needs_background": "light"
     },
     "output_type": "display_data"
    }
   ],
   "source": [
    "df_merged.Calories.hist()"
   ]
  },
  {
   "cell_type": "code",
   "execution_count": 112,
   "id": "f10b7ec6",
   "metadata": {},
   "outputs": [
    {
     "data": {
      "text/plain": [
       "ShapiroResult(statistic=0.9613993763923645, pvalue=1.2797503501360552e-08)"
      ]
     },
     "execution_count": 112,
     "metadata": {},
     "output_type": "execute_result"
    }
   ],
   "source": [
    "stats.shapiro(df_merged.Calories)"
   ]
  },
  {
   "cell_type": "code",
   "execution_count": 91,
   "id": "d88ebb81",
   "metadata": {},
   "outputs": [
    {
     "data": {
      "image/png": "[encoded data removed]",
      "text/plain": [
       "<Figure size 432x288 with 1 Axes>"
      ]
     },
     "metadata": {
      "needs_background": "light"
     },
     "output_type": "display_data"
    }
   ],
   "source": [
    "boxplot_MS = df_merged.boxplot(column=['TotalMinutesAsleep'], return_type='both')\n",
    "whiskers2 = [whiskers.get_ydata() for whiskers in boxplot_MS[1][\"whiskers\"]]"
   ]
  },
  {
   "cell_type": "code",
   "execution_count": 94,
   "id": "3ce74506",
   "metadata": {},
   "outputs": [
    {
     "data": {
      "text/html": [
       "<div>\n",
       "<style scoped>\n",
       "    .dataframe tbody tr th:only-of-type {\n",
       "        vertical-align: middle;\n",
       "    }\n",
       "\n",
       "    .dataframe tbody tr th {\n",
       "        vertical-align: top;\n",
       "    }\n",
       "\n",
       "    .dataframe thead th {\n",
       "        text-align: right;\n",
       "    }\n",
       "</style>\n",
       "<table border=\"1\" class=\"dataframe\">\n",
       "  <thead>\n",
       "    <tr style=\"text-align: right;\">\n",
       "      <th></th>\n",
       "      <th>index</th>\n",
       "      <th>Id</th>\n",
       "      <th>Date</th>\n",
       "      <th>TotalSteps</th>\n",
       "      <th>TotalDistance</th>\n",
       "      <th>VeryActiveMinutes</th>\n",
       "      <th>FairlyActiveMinutes</th>\n",
       "      <th>LightlyActiveMinutes</th>\n",
       "      <th>SedentaryMinutes</th>\n",
       "      <th>Calories</th>\n",
       "      <th>TotalMinutesAsleep</th>\n",
       "    </tr>\n",
       "  </thead>\n",
       "  <tbody>\n",
       "    <tr>\n",
       "      <th>0</th>\n",
       "      <td>5</td>\n",
       "      <td>1503960366</td>\n",
       "      <td>2016-04-17</td>\n",
       "      <td>9705</td>\n",
       "      <td>6.48</td>\n",
       "      <td>38</td>\n",
       "      <td>20</td>\n",
       "      <td>164</td>\n",
       "      <td>539</td>\n",
       "      <td>1728</td>\n",
       "      <td>700.0</td>\n",
       "    </tr>\n",
       "    <tr>\n",
       "      <th>1</th>\n",
       "      <td>51</td>\n",
       "      <td>1644430081</td>\n",
       "      <td>2016-05-02</td>\n",
       "      <td>3758</td>\n",
       "      <td>2.73</td>\n",
       "      <td>1</td>\n",
       "      <td>7</td>\n",
       "      <td>148</td>\n",
       "      <td>682</td>\n",
       "      <td>2580</td>\n",
       "      <td>796.0</td>\n",
       "    </tr>\n",
       "    <tr>\n",
       "      <th>2</th>\n",
       "      <td>79</td>\n",
       "      <td>1844505072</td>\n",
       "      <td>2016-04-30</td>\n",
       "      <td>4014</td>\n",
       "      <td>2.67</td>\n",
       "      <td>0</td>\n",
       "      <td>0</td>\n",
       "      <td>184</td>\n",
       "      <td>218</td>\n",
       "      <td>1763</td>\n",
       "      <td>722.0</td>\n",
       "    </tr>\n",
       "    <tr>\n",
       "      <th>3</th>\n",
       "      <td>92</td>\n",
       "      <td>1927972279</td>\n",
       "      <td>2016-04-12</td>\n",
       "      <td>678</td>\n",
       "      <td>0.47</td>\n",
       "      <td>0</td>\n",
       "      <td>0</td>\n",
       "      <td>55</td>\n",
       "      <td>734</td>\n",
       "      <td>2220</td>\n",
       "      <td>750.0</td>\n",
       "    </tr>\n",
       "    <tr>\n",
       "      <th>4</th>\n",
       "      <td>275</td>\n",
       "      <td>4319703577</td>\n",
       "      <td>2016-04-23</td>\n",
       "      <td>4935</td>\n",
       "      <td>3.31</td>\n",
       "      <td>0</td>\n",
       "      <td>0</td>\n",
       "      <td>233</td>\n",
       "      <td>546</td>\n",
       "      <td>1945</td>\n",
       "      <td>692.0</td>\n",
       "    </tr>\n",
       "    <tr>\n",
       "      <th>5</th>\n",
       "      <td>439</td>\n",
       "      <td>5553957443</td>\n",
       "      <td>2016-04-30</td>\n",
       "      <td>1202</td>\n",
       "      <td>0.78</td>\n",
       "      <td>0</td>\n",
       "      <td>0</td>\n",
       "      <td>84</td>\n",
       "      <td>506</td>\n",
       "      <td>1463</td>\n",
       "      <td>775.0</td>\n",
       "    </tr>\n",
       "  </tbody>\n",
       "</table>\n",
       "</div>"
      ],
      "text/plain": [
       "   index          Id       Date  TotalSteps  TotalDistance  VeryActiveMinutes  \\\n",
       "0      5  1503960366 2016-04-17        9705           6.48                 38   \n",
       "1     51  1644430081 2016-05-02        3758           2.73                  1   \n",
       "2     79  1844505072 2016-04-30        4014           2.67                  0   \n",
       "3     92  1927972279 2016-04-12         678           0.47                  0   \n",
       "4    275  4319703577 2016-04-23        4935           3.31                  0   \n",
       "5    439  5553957443 2016-04-30        1202           0.78                  0   \n",
       "\n",
       "   FairlyActiveMinutes  LightlyActiveMinutes  SedentaryMinutes  Calories  \\\n",
       "0                   20                   164               539      1728   \n",
       "1                    7                   148               682      2580   \n",
       "2                    0                   184               218      1763   \n",
       "3                    0                    55               734      2220   \n",
       "4                    0                   233               546      1945   \n",
       "5                    0                    84               506      1463   \n",
       "\n",
       "   TotalMinutesAsleep  \n",
       "0               700.0  \n",
       "1               796.0  \n",
       "2               722.0  \n",
       "3               750.0  \n",
       "4               692.0  \n",
       "5               775.0  "
      ]
     },
     "execution_count": 94,
     "metadata": {},
     "output_type": "execute_result"
    }
   ],
   "source": [
    "df_MS_up = df_merged.loc[df_merged['TotalMinutesAsleep']>whiskers2[1][1]].reset_index()\n",
    "df_MS_up\n",
    "\n"
   ]
  },
  {
   "cell_type": "code",
   "execution_count": 114,
   "id": "dfe0c96b",
   "metadata": {},
   "outputs": [
    {
     "data": {
      "text/plain": [
       "<AxesSubplot:>"
      ]
     },
     "execution_count": 114,
     "metadata": {},
     "output_type": "execute_result"
    },
    {
     "data": {
      "image/png": "[encoded data removed]",
      "text/plain": [
       "<Figure size 432x288 with 1 Axes>"
      ]
     },
     "metadata": {
      "needs_background": "light"
     },
     "output_type": "display_data"
    }
   ],
   "source": [
    "df_merged.TotalMinutesAsleep.hist()"
   ]
  },
  {
   "cell_type": "code",
   "execution_count": 113,
   "id": "43ff3844",
   "metadata": {},
   "outputs": [
    {
     "data": {
      "text/plain": [
       "ShapiroResult(statistic=0.9829397201538086, pvalue=0.00014261154865380377)"
      ]
     },
     "execution_count": 113,
     "metadata": {},
     "output_type": "execute_result"
    }
   ],
   "source": [
    "stats.shapiro(df_merged.TotalMinutesAsleep)"
   ]
  },
  {
   "cell_type": "code",
   "execution_count": 102,
   "id": "c49c0f2b",
   "metadata": {},
   "outputs": [
    {
     "data": {
      "text/plain": [
       "171.0"
      ]
     },
     "execution_count": 102,
     "metadata": {},
     "output_type": "execute_result"
    }
   ],
   "source": [
    "whiskers2[0][1]"
   ]
  },
  {
   "cell_type": "code",
   "execution_count": 105,
   "id": "06fc8bc7",
   "metadata": {},
   "outputs": [],
   "source": [
    "df_merged = df_merged.loc[df_merged['TotalMinutesAsleep']>whiskers2[0][1]].reset_index()\n"
   ]
  },
  {
   "cell_type": "code",
   "execution_count": 106,
   "id": "e1f487e8",
   "metadata": {},
   "outputs": [
    {
     "data": {
      "text/html": [
       "<div>\n",
       "<style scoped>\n",
       "    .dataframe tbody tr th:only-of-type {\n",
       "        vertical-align: middle;\n",
       "    }\n",
       "\n",
       "    .dataframe tbody tr th {\n",
       "        vertical-align: top;\n",
       "    }\n",
       "\n",
       "    .dataframe thead th {\n",
       "        text-align: right;\n",
       "    }\n",
       "</style>\n",
       "<table border=\"1\" class=\"dataframe\">\n",
       "  <thead>\n",
       "    <tr style=\"text-align: right;\">\n",
       "      <th></th>\n",
       "      <th>index</th>\n",
       "      <th>Id</th>\n",
       "      <th>TotalSteps</th>\n",
       "      <th>TotalDistance</th>\n",
       "      <th>VeryActiveMinutes</th>\n",
       "      <th>FairlyActiveMinutes</th>\n",
       "      <th>LightlyActiveMinutes</th>\n",
       "      <th>SedentaryMinutes</th>\n",
       "      <th>Calories</th>\n",
       "      <th>TotalMinutesAsleep</th>\n",
       "    </tr>\n",
       "  </thead>\n",
       "  <tbody>\n",
       "    <tr>\n",
       "      <th>count</th>\n",
       "      <td>391.000000</td>\n",
       "      <td>3.910000e+02</td>\n",
       "      <td>391.000000</td>\n",
       "      <td>391.000000</td>\n",
       "      <td>391.000000</td>\n",
       "      <td>391.000000</td>\n",
       "      <td>391.000000</td>\n",
       "      <td>391.000000</td>\n",
       "      <td>391.000000</td>\n",
       "      <td>391.000000</td>\n",
       "    </tr>\n",
       "    <tr>\n",
       "      <th>mean</th>\n",
       "      <td>382.910486</td>\n",
       "      <td>5.041974e+09</td>\n",
       "      <td>8584.979540</td>\n",
       "      <td>6.064373</td>\n",
       "      <td>25.452685</td>\n",
       "      <td>18.007673</td>\n",
       "      <td>217.457801</td>\n",
       "      <td>691.874680</td>\n",
       "      <td>2390.624041</td>\n",
       "      <td>437.276215</td>\n",
       "    </tr>\n",
       "    <tr>\n",
       "      <th>std</th>\n",
       "      <td>193.067013</td>\n",
       "      <td>2.072399e+09</td>\n",
       "      <td>4105.193273</td>\n",
       "      <td>3.002621</td>\n",
       "      <td>36.579134</td>\n",
       "      <td>22.258561</td>\n",
       "      <td>86.625558</td>\n",
       "      <td>143.159109</td>\n",
       "      <td>768.815279</td>\n",
       "      <td>93.610269</td>\n",
       "    </tr>\n",
       "    <tr>\n",
       "      <th>min</th>\n",
       "      <td>0.000000</td>\n",
       "      <td>1.503960e+09</td>\n",
       "      <td>17.000000</td>\n",
       "      <td>0.010000</td>\n",
       "      <td>0.000000</td>\n",
       "      <td>0.000000</td>\n",
       "      <td>2.000000</td>\n",
       "      <td>0.000000</td>\n",
       "      <td>257.000000</td>\n",
       "      <td>213.000000</td>\n",
       "    </tr>\n",
       "    <tr>\n",
       "      <th>25%</th>\n",
       "      <td>225.500000</td>\n",
       "      <td>3.977334e+09</td>\n",
       "      <td>5300.000000</td>\n",
       "      <td>3.620000</td>\n",
       "      <td>0.000000</td>\n",
       "      <td>0.000000</td>\n",
       "      <td>158.000000</td>\n",
       "      <td>623.500000</td>\n",
       "      <td>1837.500000</td>\n",
       "      <td>380.000000</td>\n",
       "    </tr>\n",
       "    <tr>\n",
       "      <th>50%</th>\n",
       "      <td>403.000000</td>\n",
       "      <td>4.702922e+09</td>\n",
       "      <td>9023.000000</td>\n",
       "      <td>6.380000</td>\n",
       "      <td>10.000000</td>\n",
       "      <td>11.000000</td>\n",
       "      <td>208.000000</td>\n",
       "      <td>712.000000</td>\n",
       "      <td>2200.000000</td>\n",
       "      <td>439.000000</td>\n",
       "    </tr>\n",
       "    <tr>\n",
       "      <th>75%</th>\n",
       "      <td>541.500000</td>\n",
       "      <td>6.962181e+09</td>\n",
       "      <td>11398.500000</td>\n",
       "      <td>8.040000</td>\n",
       "      <td>38.000000</td>\n",
       "      <td>27.000000</td>\n",
       "      <td>263.500000</td>\n",
       "      <td>772.000000</td>\n",
       "      <td>2908.000000</td>\n",
       "      <td>496.500000</td>\n",
       "    </tr>\n",
       "    <tr>\n",
       "      <th>max</th>\n",
       "      <td>709.000000</td>\n",
       "      <td>8.792010e+09</td>\n",
       "      <td>22770.000000</td>\n",
       "      <td>17.540001</td>\n",
       "      <td>210.000000</td>\n",
       "      <td>143.000000</td>\n",
       "      <td>518.000000</td>\n",
       "      <td>1058.000000</td>\n",
       "      <td>4900.000000</td>\n",
       "      <td>796.000000</td>\n",
       "    </tr>\n",
       "  </tbody>\n",
       "</table>\n",
       "</div>"
      ],
      "text/plain": [
       "            index            Id    TotalSteps  TotalDistance  \\\n",
       "count  391.000000  3.910000e+02    391.000000     391.000000   \n",
       "mean   382.910486  5.041974e+09   8584.979540       6.064373   \n",
       "std    193.067013  2.072399e+09   4105.193273       3.002621   \n",
       "min      0.000000  1.503960e+09     17.000000       0.010000   \n",
       "25%    225.500000  3.977334e+09   5300.000000       3.620000   \n",
       "50%    403.000000  4.702922e+09   9023.000000       6.380000   \n",
       "75%    541.500000  6.962181e+09  11398.500000       8.040000   \n",
       "max    709.000000  8.792010e+09  22770.000000      17.540001   \n",
       "\n",
       "       VeryActiveMinutes  FairlyActiveMinutes  LightlyActiveMinutes  \\\n",
       "count         391.000000           391.000000            391.000000   \n",
       "mean           25.452685            18.007673            217.457801   \n",
       "std            36.579134            22.258561             86.625558   \n",
       "min             0.000000             0.000000              2.000000   \n",
       "25%             0.000000             0.000000            158.000000   \n",
       "50%            10.000000            11.000000            208.000000   \n",
       "75%            38.000000            27.000000            263.500000   \n",
       "max           210.000000           143.000000            518.000000   \n",
       "\n",
       "       SedentaryMinutes     Calories  TotalMinutesAsleep  \n",
       "count        391.000000   391.000000          391.000000  \n",
       "mean         691.874680  2390.624041          437.276215  \n",
       "std          143.159109   768.815279           93.610269  \n",
       "min            0.000000   257.000000          213.000000  \n",
       "25%          623.500000  1837.500000          380.000000  \n",
       "50%          712.000000  2200.000000          439.000000  \n",
       "75%          772.000000  2908.000000          496.500000  \n",
       "max         1058.000000  4900.000000          796.000000  "
      ]
     },
     "execution_count": 106,
     "metadata": {},
     "output_type": "execute_result"
    }
   ],
   "source": [
    "pd.DataFrame.describe(df_merged)"
   ]
  },
  {
   "cell_type": "code",
   "execution_count": 172,
   "id": "b02f66ed",
   "metadata": {},
   "outputs": [],
   "source": [
    "#d = preprocessing.normalize(df_merged)\n",
    "x = df_merged.copy() #returns a numpy array\n",
    "x = x.drop(['index','Id','Date'], axis=1)\n",
    "min_max_scaler = preprocessing.MinMaxScaler()\n",
    "x_scaled = min_max_scaler.fit_transform(x)\n",
    "df_norm = pd.DataFrame(x_scaled, columns=x.columns)\n",
    "\n"
   ]
  },
  {
   "cell_type": "code",
   "execution_count": 175,
   "id": "2303a878",
   "metadata": {},
   "outputs": [
    {
     "data": {
      "text/html": [
       "<div>\n",
       "<style scoped>\n",
       "    .dataframe tbody tr th:only-of-type {\n",
       "        vertical-align: middle;\n",
       "    }\n",
       "\n",
       "    .dataframe tbody tr th {\n",
       "        vertical-align: top;\n",
       "    }\n",
       "\n",
       "    .dataframe thead th {\n",
       "        text-align: right;\n",
       "    }\n",
       "</style>\n",
       "<table border=\"1\" class=\"dataframe\">\n",
       "  <thead>\n",
       "    <tr style=\"text-align: right;\">\n",
       "      <th></th>\n",
       "      <th>index</th>\n",
       "      <th>Id</th>\n",
       "      <th>TotalSteps</th>\n",
       "      <th>TotalDistance</th>\n",
       "      <th>VeryActiveMinutes</th>\n",
       "      <th>FairlyActiveMinutes</th>\n",
       "      <th>LightlyActiveMinutes</th>\n",
       "      <th>SedentaryMinutes</th>\n",
       "      <th>Calories</th>\n",
       "      <th>TotalMinutesAsleep</th>\n",
       "    </tr>\n",
       "  </thead>\n",
       "  <tbody>\n",
       "    <tr>\n",
       "      <th>index</th>\n",
       "      <td>1.000000</td>\n",
       "      <td>0.982501</td>\n",
       "      <td>-0.025460</td>\n",
       "      <td>0.052424</td>\n",
       "      <td>0.260245</td>\n",
       "      <td>-0.052473</td>\n",
       "      <td>-0.162655</td>\n",
       "      <td>0.003924</td>\n",
       "      <td>0.457588</td>\n",
       "      <td>0.091224</td>\n",
       "    </tr>\n",
       "    <tr>\n",
       "      <th>Id</th>\n",
       "      <td>0.982501</td>\n",
       "      <td>1.000000</td>\n",
       "      <td>-0.003305</td>\n",
       "      <td>0.067637</td>\n",
       "      <td>0.262303</td>\n",
       "      <td>-0.017866</td>\n",
       "      <td>-0.187434</td>\n",
       "      <td>0.037237</td>\n",
       "      <td>0.425625</td>\n",
       "      <td>0.043101</td>\n",
       "    </tr>\n",
       "    <tr>\n",
       "      <th>TotalSteps</th>\n",
       "      <td>-0.025460</td>\n",
       "      <td>-0.003305</td>\n",
       "      <td>1.000000</td>\n",
       "      <td>0.980749</td>\n",
       "      <td>0.547104</td>\n",
       "      <td>0.569785</td>\n",
       "      <td>0.407484</td>\n",
       "      <td>-0.090715</td>\n",
       "      <td>0.407188</td>\n",
       "      <td>-0.291409</td>\n",
       "    </tr>\n",
       "    <tr>\n",
       "      <th>TotalDistance</th>\n",
       "      <td>0.052424</td>\n",
       "      <td>0.067637</td>\n",
       "      <td>0.980749</td>\n",
       "      <td>1.000000</td>\n",
       "      <td>0.580145</td>\n",
       "      <td>0.553444</td>\n",
       "      <td>0.377896</td>\n",
       "      <td>-0.093736</td>\n",
       "      <td>0.526800</td>\n",
       "      <td>-0.263617</td>\n",
       "    </tr>\n",
       "    <tr>\n",
       "      <th>VeryActiveMinutes</th>\n",
       "      <td>0.260245</td>\n",
       "      <td>0.262303</td>\n",
       "      <td>0.547104</td>\n",
       "      <td>0.580145</td>\n",
       "      <td>1.000000</td>\n",
       "      <td>0.325856</td>\n",
       "      <td>-0.213621</td>\n",
       "      <td>0.001298</td>\n",
       "      <td>0.613866</td>\n",
       "      <td>-0.141715</td>\n",
       "    </tr>\n",
       "    <tr>\n",
       "      <th>FairlyActiveMinutes</th>\n",
       "      <td>-0.052473</td>\n",
       "      <td>-0.017866</td>\n",
       "      <td>0.569785</td>\n",
       "      <td>0.553444</td>\n",
       "      <td>0.325856</td>\n",
       "      <td>1.000000</td>\n",
       "      <td>-0.031137</td>\n",
       "      <td>-0.016181</td>\n",
       "      <td>0.181828</td>\n",
       "      <td>-0.331587</td>\n",
       "    </tr>\n",
       "    <tr>\n",
       "      <th>LightlyActiveMinutes</th>\n",
       "      <td>-0.162655</td>\n",
       "      <td>-0.187434</td>\n",
       "      <td>0.407484</td>\n",
       "      <td>0.377896</td>\n",
       "      <td>-0.213621</td>\n",
       "      <td>-0.031137</td>\n",
       "      <td>1.000000</td>\n",
       "      <td>-0.265584</td>\n",
       "      <td>0.109518</td>\n",
       "      <td>0.015548</td>\n",
       "    </tr>\n",
       "    <tr>\n",
       "      <th>SedentaryMinutes</th>\n",
       "      <td>0.003924</td>\n",
       "      <td>0.037237</td>\n",
       "      <td>-0.090715</td>\n",
       "      <td>-0.093736</td>\n",
       "      <td>0.001298</td>\n",
       "      <td>-0.016181</td>\n",
       "      <td>-0.265584</td>\n",
       "      <td>1.000000</td>\n",
       "      <td>0.106617</td>\n",
       "      <td>-0.414008</td>\n",
       "    </tr>\n",
       "    <tr>\n",
       "      <th>Calories</th>\n",
       "      <td>0.457588</td>\n",
       "      <td>0.425625</td>\n",
       "      <td>0.407188</td>\n",
       "      <td>0.526800</td>\n",
       "      <td>0.613866</td>\n",
       "      <td>0.181828</td>\n",
       "      <td>0.109518</td>\n",
       "      <td>0.106617</td>\n",
       "      <td>1.000000</td>\n",
       "      <td>-0.002891</td>\n",
       "    </tr>\n",
       "    <tr>\n",
       "      <th>TotalMinutesAsleep</th>\n",
       "      <td>0.091224</td>\n",
       "      <td>0.043101</td>\n",
       "      <td>-0.291409</td>\n",
       "      <td>-0.263617</td>\n",
       "      <td>-0.141715</td>\n",
       "      <td>-0.331587</td>\n",
       "      <td>0.015548</td>\n",
       "      <td>-0.414008</td>\n",
       "      <td>-0.002891</td>\n",
       "      <td>1.000000</td>\n",
       "    </tr>\n",
       "  </tbody>\n",
       "</table>\n",
       "</div>"
      ],
      "text/plain": [
       "                         index        Id  TotalSteps  TotalDistance  \\\n",
       "index                 1.000000  0.982501   -0.025460       0.052424   \n",
       "Id                    0.982501  1.000000   -0.003305       0.067637   \n",
       "TotalSteps           -0.025460 -0.003305    1.000000       0.980749   \n",
       "TotalDistance         0.052424  0.067637    0.980749       1.000000   \n",
       "VeryActiveMinutes     0.260245  0.262303    0.547104       0.580145   \n",
       "FairlyActiveMinutes  -0.052473 -0.017866    0.569785       0.553444   \n",
       "LightlyActiveMinutes -0.162655 -0.187434    0.407484       0.377896   \n",
       "SedentaryMinutes      0.003924  0.037237   -0.090715      -0.093736   \n",
       "Calories              0.457588  0.425625    0.407188       0.526800   \n",
       "TotalMinutesAsleep    0.091224  0.043101   -0.291409      -0.263617   \n",
       "\n",
       "                      VeryActiveMinutes  FairlyActiveMinutes  \\\n",
       "index                          0.260245            -0.052473   \n",
       "Id                             0.262303            -0.017866   \n",
       "TotalSteps                     0.547104             0.569785   \n",
       "TotalDistance                  0.580145             0.553444   \n",
       "VeryActiveMinutes              1.000000             0.325856   \n",
       "FairlyActiveMinutes            0.325856             1.000000   \n",
       "LightlyActiveMinutes          -0.213621            -0.031137   \n",
       "SedentaryMinutes               0.001298            -0.016181   \n",
       "Calories                       0.613866             0.181828   \n",
       "TotalMinutesAsleep            -0.141715            -0.331587   \n",
       "\n",
       "                      LightlyActiveMinutes  SedentaryMinutes  Calories  \\\n",
       "index                            -0.162655          0.003924  0.457588   \n",
       "Id                               -0.187434          0.037237  0.425625   \n",
       "TotalSteps                        0.407484         -0.090715  0.407188   \n",
       "TotalDistance                     0.377896         -0.093736  0.526800   \n",
       "VeryActiveMinutes                -0.213621          0.001298  0.613866   \n",
       "FairlyActiveMinutes              -0.031137         -0.016181  0.181828   \n",
       "LightlyActiveMinutes              1.000000         -0.265584  0.109518   \n",
       "SedentaryMinutes                 -0.265584          1.000000  0.106617   \n",
       "Calories                          0.109518          0.106617  1.000000   \n",
       "TotalMinutesAsleep                0.015548         -0.414008 -0.002891   \n",
       "\n",
       "                      TotalMinutesAsleep  \n",
       "index                           0.091224  \n",
       "Id                              0.043101  \n",
       "TotalSteps                     -0.291409  \n",
       "TotalDistance                  -0.263617  \n",
       "VeryActiveMinutes              -0.141715  \n",
       "FairlyActiveMinutes            -0.331587  \n",
       "LightlyActiveMinutes            0.015548  \n",
       "SedentaryMinutes               -0.414008  \n",
       "Calories                       -0.002891  \n",
       "TotalMinutesAsleep              1.000000  "
      ]
     },
     "execution_count": 175,
     "metadata": {},
     "output_type": "execute_result"
    }
   ],
   "source": [
    "df_merged.corr()"
   ]
  },
  {
   "cell_type": "code",
   "execution_count": 174,
   "id": "14762916",
   "metadata": {},
   "outputs": [
    {
     "data": {
      "text/plain": [
       "ShapiroResult(statistic=0.982940137386322, pvalue=0.00014264605124481022)"
      ]
     },
     "execution_count": 174,
     "metadata": {},
     "output_type": "execute_result"
    }
   ],
   "source": [
    "stats.shapiro(df_norm.TotalMinutesAsleep)"
   ]
  },
  {
   "cell_type": "code",
   "execution_count": 116,
   "id": "49cd65ea",
   "metadata": {},
   "outputs": [
    {
     "data": {
      "text/plain": [
       "<matplotlib.collections.PathCollection at 0x7f345f9795b0>"
      ]
     },
     "execution_count": 116,
     "metadata": {},
     "output_type": "execute_result"
    },
    {
     "data": {
      "image/png": "[encoded data removed]",
      "text/plain": [
       "<Figure size 432x288 with 1 Axes>"
      ]
     },
     "metadata": {
      "needs_background": "light"
     },
     "output_type": "display_data"
    }
   ],
   "source": [
    "plt.scatter(df_merged.TotalSteps, df_merged.Calories)"
   ]
  },
  {
   "cell_type": "code",
   "execution_count": 178,
   "id": "80e04cfa",
   "metadata": {},
   "outputs": [
    {
     "data": {
      "image/png": "[encoded data removed]",
      "text/plain": [
       "<Figure size 432x288 with 1 Axes>"
      ]
     },
     "metadata": {
      "needs_background": "light"
     },
     "output_type": "display_data"
    }
   ],
   "source": [
    "plt.scatter(df_merged.TotalMinutesAsleep, df_merged.Calories)\n",
    "\n",
    "plt.show()"
   ]
  },
  {
   "cell_type": "raw",
   "id": "7b49c606",
   "metadata": {},
   "source": []
  },
  {
   "cell_type": "code",
   "execution_count": 282,
   "id": "9cba0684",
   "metadata": {},
   "outputs": [
    {
     "data": {
      "text/plain": [
       "LightyActive    192\n",
       "Sedentary       132\n",
       "VeryActive       41\n",
       "FairlyActive     26\n",
       "Name: type, dtype: int64"
      ]
     },
     "execution_count": 282,
     "metadata": {},
     "output_type": "execute_result"
    }
   ],
   "source": [
    "df_merged.type.value_counts()"
   ]
  },
  {
   "cell_type": "code",
   "execution_count": 281,
   "id": "913fec73",
   "metadata": {},
   "outputs": [],
   "source": [
    "df_merged['type'] = 'Non_type'\n",
    "df_merged.loc[(df_merged['SedentaryMinutes'] > statistics.mean(df_merged.SedentaryMinutes)) |\n",
    "       (df_merged['VeryActiveMinutes'] < statistics.mean(df_merged.VeryActiveMinutes)) &\n",
    "       (df_merged['FairlyActiveMinutes'] < statistics.mean(df_merged.FairlyActiveMinutes)) &\n",
    "        (df_merged['LightlyActiveMinutes'] < statistics.mean(df_merged.LightlyActiveMinutes)), 'type'] = 'Sedentary'\n",
    "df_merged.loc[(df_merged['SedentaryMinutes'] < statistics.mean(df_merged.SedentaryMinutes)) |\n",
    "       (df_merged['VeryActiveMinutes'] < statistics.mean(df_merged.VeryActiveMinutes)) &\n",
    "       (df_merged['FairlyActiveMinutes'] < statistics.mean(df_merged.FairlyActiveMinutes)) &\n",
    "        (df_merged['LightlyActiveMinutes'] > statistics.mean(df_merged.LightlyActiveMinutes)), 'type'] = 'LightyActive'                \n",
    "        \n",
    "\n",
    "df_merged.loc[(df_merged['VeryActiveMinutes'] > statistics.mean(df_merged.VeryActiveMinutes))&\n",
    "    (df_merged['FairlyActiveMinutes'] < statistics.mean(df_merged.FairlyActiveMinutes))&\n",
    "    (df_merged['LightlyActiveMinutes'] < statistics.mean(df_merged.LightlyActiveMinutes)), 'type'] = 'VeryActive'\n",
    "df_merged.loc[(df_merged['FairlyActiveMinutes'] > statistics.mean(df_merged.FairlyActiveMinutes)) &\n",
    "        (df_merged['VeryActiveMinutes'] < statistics.mean(df_merged.VeryActiveMinutes))&\n",
    "        (df_merged['LightlyActiveMinutes'] < statistics.mean(df_merged.LightlyActiveMinutes)), 'type'] = 'FairlyActive'\n"
   ]
  },
  {
   "cell_type": "code",
   "execution_count": 229,
   "id": "38568b31",
   "metadata": {},
   "outputs": [
    {
     "data": {
      "text/plain": [
       "<AxesSubplot:>"
      ]
     },
     "execution_count": 229,
     "metadata": {},
     "output_type": "execute_result"
    },
    {
     "data": {
      "image/png": "[encoded data removed]",
      "text/plain": [
       "<Figure size 432x288 with 1 Axes>"
      ]
     },
     "metadata": {
      "needs_background": "light"
     },
     "output_type": "display_data"
    }
   ],
   "source": [
    "df_merged.SedentaryMinutes.hist()"
   ]
  },
  {
   "cell_type": "code",
   "execution_count": null,
   "id": "f90407c3",
   "metadata": {},
   "outputs": [],
   "source": [
    "def func(x, df= df_merged):\n",
    "    if  x < :\n",
    "        return 'xxx'\n",
    "    elif 10 < x <= 50:\n",
    "        return 'yyy'\n",
    "    return 'zzz'\n",
    "\n",
    "df['col2'] = df['col1'].apply(func)"
   ]
  }
 ],
 "metadata": {
  "kernelspec": {
   "display_name": "Python 3 (ipykernel)",
   "language": "python",
   "name": "python3"
  },
  "language_info": {
   "codemirror_mode": {
    "name": "ipython",
    "version": 3
   },
   "file_extension": ".py",
   "mimetype": "text/x-python",
   "name": "python",
   "nbconvert_exporter": "python",
   "pygments_lexer": "ipython3",
   "version": "3.8.8"
  }
 },
 "nbformat": 4,
 "nbformat_minor": 5
}
