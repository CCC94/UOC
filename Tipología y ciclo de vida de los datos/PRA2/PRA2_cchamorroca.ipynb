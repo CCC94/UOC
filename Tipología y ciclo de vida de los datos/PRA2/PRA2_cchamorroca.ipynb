{
 "cells": [
  {
   "cell_type": "markdown",
   "id": "2220c4f1",
   "metadata": {},
   "source": [
    "# PRA 2 Tipologia y ciclo de vida de los datos"
   ]
  },
  {
   "cell_type": "markdown",
   "id": "b0515d79",
   "metadata": {},
   "source": [
    "## Carlos Chamorro\n",
    "\n",
    "## UOC"
   ]
  },
  {
   "cell_type": "markdown",
   "id": "daa3c8a1",
   "metadata": {},
   "source": [
    "### 1. Descripcion del dataset"
   ]
  },
  {
   "cell_type": "markdown",
   "id": "a95089d9",
   "metadata": {},
   "source": [
    "Para la realización de esta práctica, se ha seleccionado un conjunto de datos obtenido de la plataforma Kaggle llamado FitBit Fitness Tracker Data, el cual contiene información proveniente de los smartwatch FitBit, el cual registra diferentes tipos de datos sobre la salud y el nivel de atletismo de las personas que los usan. Este dataset es de libre acceso a través de la plataforma y ha sido ampliamente usado por estudiantes o aficionados para realizar casos de estudio. Con este dataset se pueden tratar de responder diferentes preguntas relacionadas con el deporte, la nutrición y el consumo y gasto de energía por parte de las personas. En este caso, trataremos de responder a la siguiente pregunta: Podemos establecer una relación entre las horas de sueño y el consumo de calorías?"
   ]
  },
  {
   "cell_type": "markdown",
   "id": "ef4e8dfe",
   "metadata": {},
   "source": [
    "Antes de proseguir, importamos las librerías que usaremos a lo largo del análisis."
   ]
  },
  {
   "cell_type": "code",
   "execution_count": 1,
   "id": "c5ef2a65",
   "metadata": {},
   "outputs": [],
   "source": [
    "import pandas as pd\n",
    "import csv\n",
    "import numpy as np\n",
    "from scipy import stats\n",
    "import matplotlib.pyplot as plt\n",
    "from sklearn import preprocessing\n",
    "import statistics\n",
    "import seaborn as sns"
   ]
  },
  {
   "cell_type": "markdown",
   "id": "c38dc78f",
   "metadata": {},
   "source": [
    "### 2. Integración y selección de los datos a analizar"
   ]
  },
  {
   "cell_type": "markdown",
   "id": "f799e6b4",
   "metadata": {},
   "source": [
    "El archivo original obtenido de Kaggle contiene un gran numero de datasets los cuales apuntan a datos de diferente naturaleza, como por ejemplo, datos sobre los minutos de sueno, datos sobre el peso, consumo de calorias, etc... El problema es que los datos entre si no son del todo consistentes por lo que podemos encontrar datos en un dataset sobre una persona que no existe en otro dataset. Esto complicara la confeccion del dataset final.\n",
    "Para responder a la pregunta nos serviremos de dos de esos datasets:"
   ]
  },
  {
   "cell_type": "markdown",
   "id": "e35c4148",
   "metadata": {},
   "source": [
    "Cargamos el primer dataset y obtenemos info relevante"
   ]
  },
  {
   "cell_type": "code",
   "execution_count": 2,
   "id": "36d80f8b",
   "metadata": {},
   "outputs": [
    {
     "name": "stdout",
     "output_type": "stream",
     "text": [
      "number of columns is 15\n",
      "number of rows is 940\n",
      "number of unique ids is 33\n"
     ]
    },
    {
     "data": {
      "text/html": [
       "<div>\n",
       "<style scoped>\n",
       "    .dataframe tbody tr th:only-of-type {\n",
       "        vertical-align: middle;\n",
       "    }\n",
       "\n",
       "    .dataframe tbody tr th {\n",
       "        vertical-align: top;\n",
       "    }\n",
       "\n",
       "    .dataframe thead th {\n",
       "        text-align: right;\n",
       "    }\n",
       "</style>\n",
       "<table border=\"1\" class=\"dataframe\">\n",
       "  <thead>\n",
       "    <tr style=\"text-align: right;\">\n",
       "      <th></th>\n",
       "      <th>Id</th>\n",
       "      <th>TotalSteps</th>\n",
       "      <th>TotalDistance</th>\n",
       "      <th>TrackerDistance</th>\n",
       "      <th>LoggedActivitiesDistance</th>\n",
       "      <th>VeryActiveDistance</th>\n",
       "      <th>ModeratelyActiveDistance</th>\n",
       "      <th>LightActiveDistance</th>\n",
       "      <th>SedentaryActiveDistance</th>\n",
       "      <th>VeryActiveMinutes</th>\n",
       "      <th>FairlyActiveMinutes</th>\n",
       "      <th>LightlyActiveMinutes</th>\n",
       "      <th>SedentaryMinutes</th>\n",
       "      <th>Calories</th>\n",
       "    </tr>\n",
       "  </thead>\n",
       "  <tbody>\n",
       "    <tr>\n",
       "      <th>count</th>\n",
       "      <td>9.400000e+02</td>\n",
       "      <td>940.000000</td>\n",
       "      <td>940.000000</td>\n",
       "      <td>940.000000</td>\n",
       "      <td>940.000000</td>\n",
       "      <td>940.000000</td>\n",
       "      <td>940.000000</td>\n",
       "      <td>940.000000</td>\n",
       "      <td>940.000000</td>\n",
       "      <td>940.000000</td>\n",
       "      <td>940.000000</td>\n",
       "      <td>940.000000</td>\n",
       "      <td>940.000000</td>\n",
       "      <td>940.000000</td>\n",
       "    </tr>\n",
       "    <tr>\n",
       "      <th>mean</th>\n",
       "      <td>4.855407e+09</td>\n",
       "      <td>7637.910638</td>\n",
       "      <td>5.489702</td>\n",
       "      <td>5.475351</td>\n",
       "      <td>0.108171</td>\n",
       "      <td>1.502681</td>\n",
       "      <td>0.567543</td>\n",
       "      <td>3.340819</td>\n",
       "      <td>0.001606</td>\n",
       "      <td>21.164894</td>\n",
       "      <td>13.564894</td>\n",
       "      <td>192.812766</td>\n",
       "      <td>991.210638</td>\n",
       "      <td>2303.609574</td>\n",
       "    </tr>\n",
       "    <tr>\n",
       "      <th>std</th>\n",
       "      <td>2.424805e+09</td>\n",
       "      <td>5087.150742</td>\n",
       "      <td>3.924606</td>\n",
       "      <td>3.907276</td>\n",
       "      <td>0.619897</td>\n",
       "      <td>2.658941</td>\n",
       "      <td>0.883580</td>\n",
       "      <td>2.040655</td>\n",
       "      <td>0.007346</td>\n",
       "      <td>32.844803</td>\n",
       "      <td>19.987404</td>\n",
       "      <td>109.174700</td>\n",
       "      <td>301.267437</td>\n",
       "      <td>718.166862</td>\n",
       "    </tr>\n",
       "    <tr>\n",
       "      <th>min</th>\n",
       "      <td>1.503960e+09</td>\n",
       "      <td>0.000000</td>\n",
       "      <td>0.000000</td>\n",
       "      <td>0.000000</td>\n",
       "      <td>0.000000</td>\n",
       "      <td>0.000000</td>\n",
       "      <td>0.000000</td>\n",
       "      <td>0.000000</td>\n",
       "      <td>0.000000</td>\n",
       "      <td>0.000000</td>\n",
       "      <td>0.000000</td>\n",
       "      <td>0.000000</td>\n",
       "      <td>0.000000</td>\n",
       "      <td>0.000000</td>\n",
       "    </tr>\n",
       "    <tr>\n",
       "      <th>25%</th>\n",
       "      <td>2.320127e+09</td>\n",
       "      <td>3789.750000</td>\n",
       "      <td>2.620000</td>\n",
       "      <td>2.620000</td>\n",
       "      <td>0.000000</td>\n",
       "      <td>0.000000</td>\n",
       "      <td>0.000000</td>\n",
       "      <td>1.945000</td>\n",
       "      <td>0.000000</td>\n",
       "      <td>0.000000</td>\n",
       "      <td>0.000000</td>\n",
       "      <td>127.000000</td>\n",
       "      <td>729.750000</td>\n",
       "      <td>1828.500000</td>\n",
       "    </tr>\n",
       "    <tr>\n",
       "      <th>50%</th>\n",
       "      <td>4.445115e+09</td>\n",
       "      <td>7405.500000</td>\n",
       "      <td>5.245000</td>\n",
       "      <td>5.245000</td>\n",
       "      <td>0.000000</td>\n",
       "      <td>0.210000</td>\n",
       "      <td>0.240000</td>\n",
       "      <td>3.365000</td>\n",
       "      <td>0.000000</td>\n",
       "      <td>4.000000</td>\n",
       "      <td>6.000000</td>\n",
       "      <td>199.000000</td>\n",
       "      <td>1057.500000</td>\n",
       "      <td>2134.000000</td>\n",
       "    </tr>\n",
       "    <tr>\n",
       "      <th>75%</th>\n",
       "      <td>6.962181e+09</td>\n",
       "      <td>10727.000000</td>\n",
       "      <td>7.712500</td>\n",
       "      <td>7.710000</td>\n",
       "      <td>0.000000</td>\n",
       "      <td>2.052500</td>\n",
       "      <td>0.800000</td>\n",
       "      <td>4.782500</td>\n",
       "      <td>0.000000</td>\n",
       "      <td>32.000000</td>\n",
       "      <td>19.000000</td>\n",
       "      <td>264.000000</td>\n",
       "      <td>1229.500000</td>\n",
       "      <td>2793.250000</td>\n",
       "    </tr>\n",
       "    <tr>\n",
       "      <th>max</th>\n",
       "      <td>8.877689e+09</td>\n",
       "      <td>36019.000000</td>\n",
       "      <td>28.030001</td>\n",
       "      <td>28.030001</td>\n",
       "      <td>4.942142</td>\n",
       "      <td>21.920000</td>\n",
       "      <td>6.480000</td>\n",
       "      <td>10.710000</td>\n",
       "      <td>0.110000</td>\n",
       "      <td>210.000000</td>\n",
       "      <td>143.000000</td>\n",
       "      <td>518.000000</td>\n",
       "      <td>1440.000000</td>\n",
       "      <td>4900.000000</td>\n",
       "    </tr>\n",
       "  </tbody>\n",
       "</table>\n",
       "</div>"
      ],
      "text/plain": [
       "                 Id    TotalSteps  TotalDistance  TrackerDistance  \\\n",
       "count  9.400000e+02    940.000000     940.000000       940.000000   \n",
       "mean   4.855407e+09   7637.910638       5.489702         5.475351   \n",
       "std    2.424805e+09   5087.150742       3.924606         3.907276   \n",
       "min    1.503960e+09      0.000000       0.000000         0.000000   \n",
       "25%    2.320127e+09   3789.750000       2.620000         2.620000   \n",
       "50%    4.445115e+09   7405.500000       5.245000         5.245000   \n",
       "75%    6.962181e+09  10727.000000       7.712500         7.710000   \n",
       "max    8.877689e+09  36019.000000      28.030001        28.030001   \n",
       "\n",
       "       LoggedActivitiesDistance  VeryActiveDistance  ModeratelyActiveDistance  \\\n",
       "count                940.000000          940.000000                940.000000   \n",
       "mean                   0.108171            1.502681                  0.567543   \n",
       "std                    0.619897            2.658941                  0.883580   \n",
       "min                    0.000000            0.000000                  0.000000   \n",
       "25%                    0.000000            0.000000                  0.000000   \n",
       "50%                    0.000000            0.210000                  0.240000   \n",
       "75%                    0.000000            2.052500                  0.800000   \n",
       "max                    4.942142           21.920000                  6.480000   \n",
       "\n",
       "       LightActiveDistance  SedentaryActiveDistance  VeryActiveMinutes  \\\n",
       "count           940.000000               940.000000         940.000000   \n",
       "mean              3.340819                 0.001606          21.164894   \n",
       "std               2.040655                 0.007346          32.844803   \n",
       "min               0.000000                 0.000000           0.000000   \n",
       "25%               1.945000                 0.000000           0.000000   \n",
       "50%               3.365000                 0.000000           4.000000   \n",
       "75%               4.782500                 0.000000          32.000000   \n",
       "max              10.710000                 0.110000         210.000000   \n",
       "\n",
       "       FairlyActiveMinutes  LightlyActiveMinutes  SedentaryMinutes  \\\n",
       "count           940.000000            940.000000        940.000000   \n",
       "mean             13.564894            192.812766        991.210638   \n",
       "std              19.987404            109.174700        301.267437   \n",
       "min               0.000000              0.000000          0.000000   \n",
       "25%               0.000000            127.000000        729.750000   \n",
       "50%               6.000000            199.000000       1057.500000   \n",
       "75%              19.000000            264.000000       1229.500000   \n",
       "max             143.000000            518.000000       1440.000000   \n",
       "\n",
       "          Calories  \n",
       "count   940.000000  \n",
       "mean   2303.609574  \n",
       "std     718.166862  \n",
       "min       0.000000  \n",
       "25%    1828.500000  \n",
       "50%    2134.000000  \n",
       "75%    2793.250000  \n",
       "max    4900.000000  "
      ]
     },
     "execution_count": 2,
     "metadata": {},
     "output_type": "execute_result"
    }
   ],
   "source": [
    "df_activity = pd.read_csv('archive/Fitabase Data 4.12.16-5.12.16/dailyActivity_merged.csv')\n",
    "\n",
    "print(f'number of columns is {len(df_activity.columns)}')\n",
    "\n",
    "print(f'number of rows is {len(df_activity)}')\n",
    "\n",
    "print(f'number of unique ids is {len(df_activity.Id.unique())}')\n",
    "\n",
    "pd.DataFrame.describe(df_activity)\n"
   ]
  },
  {
   "cell_type": "code",
   "execution_count": 3,
   "id": "6b11722d",
   "metadata": {},
   "outputs": [
    {
     "data": {
      "text/html": [
       "<div>\n",
       "<style scoped>\n",
       "    .dataframe tbody tr th:only-of-type {\n",
       "        vertical-align: middle;\n",
       "    }\n",
       "\n",
       "    .dataframe tbody tr th {\n",
       "        vertical-align: top;\n",
       "    }\n",
       "\n",
       "    .dataframe thead th {\n",
       "        text-align: right;\n",
       "    }\n",
       "</style>\n",
       "<table border=\"1\" class=\"dataframe\">\n",
       "  <thead>\n",
       "    <tr style=\"text-align: right;\">\n",
       "      <th></th>\n",
       "      <th>Id</th>\n",
       "      <th>ActivityDate</th>\n",
       "      <th>TotalSteps</th>\n",
       "      <th>TotalDistance</th>\n",
       "      <th>TrackerDistance</th>\n",
       "      <th>LoggedActivitiesDistance</th>\n",
       "      <th>VeryActiveDistance</th>\n",
       "      <th>ModeratelyActiveDistance</th>\n",
       "      <th>LightActiveDistance</th>\n",
       "      <th>SedentaryActiveDistance</th>\n",
       "      <th>VeryActiveMinutes</th>\n",
       "      <th>FairlyActiveMinutes</th>\n",
       "      <th>LightlyActiveMinutes</th>\n",
       "      <th>SedentaryMinutes</th>\n",
       "      <th>Calories</th>\n",
       "    </tr>\n",
       "  </thead>\n",
       "  <tbody>\n",
       "    <tr>\n",
       "      <th>0</th>\n",
       "      <td>1503960366</td>\n",
       "      <td>4/12/2016</td>\n",
       "      <td>13162</td>\n",
       "      <td>8.50</td>\n",
       "      <td>8.50</td>\n",
       "      <td>0.0</td>\n",
       "      <td>1.88</td>\n",
       "      <td>0.55</td>\n",
       "      <td>6.06</td>\n",
       "      <td>0.0</td>\n",
       "      <td>25</td>\n",
       "      <td>13</td>\n",
       "      <td>328</td>\n",
       "      <td>728</td>\n",
       "      <td>1985</td>\n",
       "    </tr>\n",
       "    <tr>\n",
       "      <th>1</th>\n",
       "      <td>1503960366</td>\n",
       "      <td>4/13/2016</td>\n",
       "      <td>10735</td>\n",
       "      <td>6.97</td>\n",
       "      <td>6.97</td>\n",
       "      <td>0.0</td>\n",
       "      <td>1.57</td>\n",
       "      <td>0.69</td>\n",
       "      <td>4.71</td>\n",
       "      <td>0.0</td>\n",
       "      <td>21</td>\n",
       "      <td>19</td>\n",
       "      <td>217</td>\n",
       "      <td>776</td>\n",
       "      <td>1797</td>\n",
       "    </tr>\n",
       "    <tr>\n",
       "      <th>2</th>\n",
       "      <td>1503960366</td>\n",
       "      <td>4/14/2016</td>\n",
       "      <td>10460</td>\n",
       "      <td>6.74</td>\n",
       "      <td>6.74</td>\n",
       "      <td>0.0</td>\n",
       "      <td>2.44</td>\n",
       "      <td>0.40</td>\n",
       "      <td>3.91</td>\n",
       "      <td>0.0</td>\n",
       "      <td>30</td>\n",
       "      <td>11</td>\n",
       "      <td>181</td>\n",
       "      <td>1218</td>\n",
       "      <td>1776</td>\n",
       "    </tr>\n",
       "    <tr>\n",
       "      <th>3</th>\n",
       "      <td>1503960366</td>\n",
       "      <td>4/15/2016</td>\n",
       "      <td>9762</td>\n",
       "      <td>6.28</td>\n",
       "      <td>6.28</td>\n",
       "      <td>0.0</td>\n",
       "      <td>2.14</td>\n",
       "      <td>1.26</td>\n",
       "      <td>2.83</td>\n",
       "      <td>0.0</td>\n",
       "      <td>29</td>\n",
       "      <td>34</td>\n",
       "      <td>209</td>\n",
       "      <td>726</td>\n",
       "      <td>1745</td>\n",
       "    </tr>\n",
       "    <tr>\n",
       "      <th>4</th>\n",
       "      <td>1503960366</td>\n",
       "      <td>4/16/2016</td>\n",
       "      <td>12669</td>\n",
       "      <td>8.16</td>\n",
       "      <td>8.16</td>\n",
       "      <td>0.0</td>\n",
       "      <td>2.71</td>\n",
       "      <td>0.41</td>\n",
       "      <td>5.04</td>\n",
       "      <td>0.0</td>\n",
       "      <td>36</td>\n",
       "      <td>10</td>\n",
       "      <td>221</td>\n",
       "      <td>773</td>\n",
       "      <td>1863</td>\n",
       "    </tr>\n",
       "  </tbody>\n",
       "</table>\n",
       "</div>"
      ],
      "text/plain": [
       "           Id ActivityDate  TotalSteps  TotalDistance  TrackerDistance  \\\n",
       "0  1503960366    4/12/2016       13162           8.50             8.50   \n",
       "1  1503960366    4/13/2016       10735           6.97             6.97   \n",
       "2  1503960366    4/14/2016       10460           6.74             6.74   \n",
       "3  1503960366    4/15/2016        9762           6.28             6.28   \n",
       "4  1503960366    4/16/2016       12669           8.16             8.16   \n",
       "\n",
       "   LoggedActivitiesDistance  VeryActiveDistance  ModeratelyActiveDistance  \\\n",
       "0                       0.0                1.88                      0.55   \n",
       "1                       0.0                1.57                      0.69   \n",
       "2                       0.0                2.44                      0.40   \n",
       "3                       0.0                2.14                      1.26   \n",
       "4                       0.0                2.71                      0.41   \n",
       "\n",
       "   LightActiveDistance  SedentaryActiveDistance  VeryActiveMinutes  \\\n",
       "0                 6.06                      0.0                 25   \n",
       "1                 4.71                      0.0                 21   \n",
       "2                 3.91                      0.0                 30   \n",
       "3                 2.83                      0.0                 29   \n",
       "4                 5.04                      0.0                 36   \n",
       "\n",
       "   FairlyActiveMinutes  LightlyActiveMinutes  SedentaryMinutes  Calories  \n",
       "0                   13                   328               728      1985  \n",
       "1                   19                   217               776      1797  \n",
       "2                   11                   181              1218      1776  \n",
       "3                   34                   209               726      1745  \n",
       "4                   10                   221               773      1863  "
      ]
     },
     "execution_count": 3,
     "metadata": {},
     "output_type": "execute_result"
    }
   ],
   "source": [
    "df_activity.head()\n"
   ]
  },
  {
   "cell_type": "markdown",
   "id": "e5963647",
   "metadata": {},
   "source": [
    "Cargamos el segundo dataset"
   ]
  },
  {
   "cell_type": "code",
   "execution_count": 4,
   "id": "3b60a92a",
   "metadata": {},
   "outputs": [
    {
     "name": "stdout",
     "output_type": "stream",
     "text": [
      "number of columns is 5\n",
      "number of rows is 413\n",
      "number of unique ids is 24\n"
     ]
    },
    {
     "data": {
      "text/html": [
       "<div>\n",
       "<style scoped>\n",
       "    .dataframe tbody tr th:only-of-type {\n",
       "        vertical-align: middle;\n",
       "    }\n",
       "\n",
       "    .dataframe tbody tr th {\n",
       "        vertical-align: top;\n",
       "    }\n",
       "\n",
       "    .dataframe thead th {\n",
       "        text-align: right;\n",
       "    }\n",
       "</style>\n",
       "<table border=\"1\" class=\"dataframe\">\n",
       "  <thead>\n",
       "    <tr style=\"text-align: right;\">\n",
       "      <th></th>\n",
       "      <th>Id</th>\n",
       "      <th>TotalSleepRecords</th>\n",
       "      <th>TotalMinutesAsleep</th>\n",
       "      <th>TotalTimeInBed</th>\n",
       "    </tr>\n",
       "  </thead>\n",
       "  <tbody>\n",
       "    <tr>\n",
       "      <th>count</th>\n",
       "      <td>4.130000e+02</td>\n",
       "      <td>413.000000</td>\n",
       "      <td>413.000000</td>\n",
       "      <td>413.000000</td>\n",
       "    </tr>\n",
       "    <tr>\n",
       "      <th>mean</th>\n",
       "      <td>5.000979e+09</td>\n",
       "      <td>1.118644</td>\n",
       "      <td>419.467312</td>\n",
       "      <td>458.639225</td>\n",
       "    </tr>\n",
       "    <tr>\n",
       "      <th>std</th>\n",
       "      <td>2.060360e+09</td>\n",
       "      <td>0.345521</td>\n",
       "      <td>118.344679</td>\n",
       "      <td>127.101607</td>\n",
       "    </tr>\n",
       "    <tr>\n",
       "      <th>min</th>\n",
       "      <td>1.503960e+09</td>\n",
       "      <td>1.000000</td>\n",
       "      <td>58.000000</td>\n",
       "      <td>61.000000</td>\n",
       "    </tr>\n",
       "    <tr>\n",
       "      <th>25%</th>\n",
       "      <td>3.977334e+09</td>\n",
       "      <td>1.000000</td>\n",
       "      <td>361.000000</td>\n",
       "      <td>403.000000</td>\n",
       "    </tr>\n",
       "    <tr>\n",
       "      <th>50%</th>\n",
       "      <td>4.702922e+09</td>\n",
       "      <td>1.000000</td>\n",
       "      <td>433.000000</td>\n",
       "      <td>463.000000</td>\n",
       "    </tr>\n",
       "    <tr>\n",
       "      <th>75%</th>\n",
       "      <td>6.962181e+09</td>\n",
       "      <td>1.000000</td>\n",
       "      <td>490.000000</td>\n",
       "      <td>526.000000</td>\n",
       "    </tr>\n",
       "    <tr>\n",
       "      <th>max</th>\n",
       "      <td>8.792010e+09</td>\n",
       "      <td>3.000000</td>\n",
       "      <td>796.000000</td>\n",
       "      <td>961.000000</td>\n",
       "    </tr>\n",
       "  </tbody>\n",
       "</table>\n",
       "</div>"
      ],
      "text/plain": [
       "                 Id  TotalSleepRecords  TotalMinutesAsleep  TotalTimeInBed\n",
       "count  4.130000e+02         413.000000          413.000000      413.000000\n",
       "mean   5.000979e+09           1.118644          419.467312      458.639225\n",
       "std    2.060360e+09           0.345521          118.344679      127.101607\n",
       "min    1.503960e+09           1.000000           58.000000       61.000000\n",
       "25%    3.977334e+09           1.000000          361.000000      403.000000\n",
       "50%    4.702922e+09           1.000000          433.000000      463.000000\n",
       "75%    6.962181e+09           1.000000          490.000000      526.000000\n",
       "max    8.792010e+09           3.000000          796.000000      961.000000"
      ]
     },
     "execution_count": 4,
     "metadata": {},
     "output_type": "execute_result"
    }
   ],
   "source": [
    "df_sleep = pd.read_csv('archive/Fitabase Data 4.12.16-5.12.16/sleepDay_merged.csv')\n",
    "\n",
    "print(f'number of columns is {len(df_sleep.columns)}')\n",
    "\n",
    "print(f'number of rows is {len(df_sleep)}')\n",
    "\n",
    "print(f'number of unique ids is {len(df_sleep.Id.unique())}')\n",
    "df_sleep.isnull().sum(axis = 0)\n",
    "\n",
    "pd.DataFrame.describe(df_sleep)"
   ]
  },
  {
   "cell_type": "markdown",
   "id": "5f4299d0",
   "metadata": {},
   "source": [
    "Unimos ambos datasets"
   ]
  },
  {
   "cell_type": "code",
   "execution_count": 5,
   "id": "18a4cc53",
   "metadata": {},
   "outputs": [],
   "source": [
    "intersection = np.intersect1d(df_activity.Id.unique(), df_sleep.Id.unique())\n",
    "\n",
    "df_activity = df_activity[df_activity['Id'].isin(intersection)]"
   ]
  },
  {
   "cell_type": "code",
   "execution_count": 6,
   "id": "73aded06",
   "metadata": {},
   "outputs": [],
   "source": [
    "df_activity['ActivityDate'] = pd.to_datetime(df_activity['ActivityDate'])\n",
    "df_sleep['SleepDay'] = pd.to_datetime(df_sleep['SleepDay'])"
   ]
  },
  {
   "cell_type": "code",
   "execution_count": 7,
   "id": "69e2793b",
   "metadata": {},
   "outputs": [],
   "source": [
    "df_merged = pd.merge(df_activity, df_sleep,  how='left', left_on=['Id','ActivityDate'], right_on = ['Id','SleepDay'])\n",
    "\n",
    "df_merged = df_merged.drop(columns=['SleepDay'])\n",
    "df_merged = df_merged.rename(columns = {'ActivityDate':'Date'})\n",
    "\n",
    "df_merged.isnull().sum(axis = 0)\n",
    "\n",
    "df_merged = df_merged[df_merged['TotalSleepRecords'].notna()]"
   ]
  },
  {
   "cell_type": "code",
   "execution_count": 8,
   "id": "befec6f5",
   "metadata": {},
   "outputs": [
    {
     "data": {
      "text/html": [
       "<div>\n",
       "<style scoped>\n",
       "    .dataframe tbody tr th:only-of-type {\n",
       "        vertical-align: middle;\n",
       "    }\n",
       "\n",
       "    .dataframe tbody tr th {\n",
       "        vertical-align: top;\n",
       "    }\n",
       "\n",
       "    .dataframe thead th {\n",
       "        text-align: right;\n",
       "    }\n",
       "</style>\n",
       "<table border=\"1\" class=\"dataframe\">\n",
       "  <thead>\n",
       "    <tr style=\"text-align: right;\">\n",
       "      <th></th>\n",
       "      <th>Id</th>\n",
       "      <th>Date</th>\n",
       "      <th>TotalSteps</th>\n",
       "      <th>TotalDistance</th>\n",
       "      <th>TrackerDistance</th>\n",
       "      <th>LoggedActivitiesDistance</th>\n",
       "      <th>VeryActiveDistance</th>\n",
       "      <th>ModeratelyActiveDistance</th>\n",
       "      <th>LightActiveDistance</th>\n",
       "      <th>SedentaryActiveDistance</th>\n",
       "      <th>VeryActiveMinutes</th>\n",
       "      <th>FairlyActiveMinutes</th>\n",
       "      <th>LightlyActiveMinutes</th>\n",
       "      <th>SedentaryMinutes</th>\n",
       "      <th>Calories</th>\n",
       "      <th>TotalSleepRecords</th>\n",
       "      <th>TotalMinutesAsleep</th>\n",
       "      <th>TotalTimeInBed</th>\n",
       "    </tr>\n",
       "  </thead>\n",
       "  <tbody>\n",
       "    <tr>\n",
       "      <th>0</th>\n",
       "      <td>1503960366</td>\n",
       "      <td>2016-04-12</td>\n",
       "      <td>13162</td>\n",
       "      <td>8.50</td>\n",
       "      <td>8.50</td>\n",
       "      <td>0.0</td>\n",
       "      <td>1.88</td>\n",
       "      <td>0.55</td>\n",
       "      <td>6.06</td>\n",
       "      <td>0.0</td>\n",
       "      <td>25</td>\n",
       "      <td>13</td>\n",
       "      <td>328</td>\n",
       "      <td>728</td>\n",
       "      <td>1985</td>\n",
       "      <td>1.0</td>\n",
       "      <td>327.0</td>\n",
       "      <td>346.0</td>\n",
       "    </tr>\n",
       "    <tr>\n",
       "      <th>1</th>\n",
       "      <td>1503960366</td>\n",
       "      <td>2016-04-13</td>\n",
       "      <td>10735</td>\n",
       "      <td>6.97</td>\n",
       "      <td>6.97</td>\n",
       "      <td>0.0</td>\n",
       "      <td>1.57</td>\n",
       "      <td>0.69</td>\n",
       "      <td>4.71</td>\n",
       "      <td>0.0</td>\n",
       "      <td>21</td>\n",
       "      <td>19</td>\n",
       "      <td>217</td>\n",
       "      <td>776</td>\n",
       "      <td>1797</td>\n",
       "      <td>2.0</td>\n",
       "      <td>384.0</td>\n",
       "      <td>407.0</td>\n",
       "    </tr>\n",
       "    <tr>\n",
       "      <th>3</th>\n",
       "      <td>1503960366</td>\n",
       "      <td>2016-04-15</td>\n",
       "      <td>9762</td>\n",
       "      <td>6.28</td>\n",
       "      <td>6.28</td>\n",
       "      <td>0.0</td>\n",
       "      <td>2.14</td>\n",
       "      <td>1.26</td>\n",
       "      <td>2.83</td>\n",
       "      <td>0.0</td>\n",
       "      <td>29</td>\n",
       "      <td>34</td>\n",
       "      <td>209</td>\n",
       "      <td>726</td>\n",
       "      <td>1745</td>\n",
       "      <td>1.0</td>\n",
       "      <td>412.0</td>\n",
       "      <td>442.0</td>\n",
       "    </tr>\n",
       "    <tr>\n",
       "      <th>4</th>\n",
       "      <td>1503960366</td>\n",
       "      <td>2016-04-16</td>\n",
       "      <td>12669</td>\n",
       "      <td>8.16</td>\n",
       "      <td>8.16</td>\n",
       "      <td>0.0</td>\n",
       "      <td>2.71</td>\n",
       "      <td>0.41</td>\n",
       "      <td>5.04</td>\n",
       "      <td>0.0</td>\n",
       "      <td>36</td>\n",
       "      <td>10</td>\n",
       "      <td>221</td>\n",
       "      <td>773</td>\n",
       "      <td>1863</td>\n",
       "      <td>2.0</td>\n",
       "      <td>340.0</td>\n",
       "      <td>367.0</td>\n",
       "    </tr>\n",
       "    <tr>\n",
       "      <th>5</th>\n",
       "      <td>1503960366</td>\n",
       "      <td>2016-04-17</td>\n",
       "      <td>9705</td>\n",
       "      <td>6.48</td>\n",
       "      <td>6.48</td>\n",
       "      <td>0.0</td>\n",
       "      <td>3.19</td>\n",
       "      <td>0.78</td>\n",
       "      <td>2.51</td>\n",
       "      <td>0.0</td>\n",
       "      <td>38</td>\n",
       "      <td>20</td>\n",
       "      <td>164</td>\n",
       "      <td>539</td>\n",
       "      <td>1728</td>\n",
       "      <td>1.0</td>\n",
       "      <td>700.0</td>\n",
       "      <td>712.0</td>\n",
       "    </tr>\n",
       "  </tbody>\n",
       "</table>\n",
       "</div>"
      ],
      "text/plain": [
       "           Id       Date  TotalSteps  TotalDistance  TrackerDistance  \\\n",
       "0  1503960366 2016-04-12       13162           8.50             8.50   \n",
       "1  1503960366 2016-04-13       10735           6.97             6.97   \n",
       "3  1503960366 2016-04-15        9762           6.28             6.28   \n",
       "4  1503960366 2016-04-16       12669           8.16             8.16   \n",
       "5  1503960366 2016-04-17        9705           6.48             6.48   \n",
       "\n",
       "   LoggedActivitiesDistance  VeryActiveDistance  ModeratelyActiveDistance  \\\n",
       "0                       0.0                1.88                      0.55   \n",
       "1                       0.0                1.57                      0.69   \n",
       "3                       0.0                2.14                      1.26   \n",
       "4                       0.0                2.71                      0.41   \n",
       "5                       0.0                3.19                      0.78   \n",
       "\n",
       "   LightActiveDistance  SedentaryActiveDistance  VeryActiveMinutes  \\\n",
       "0                 6.06                      0.0                 25   \n",
       "1                 4.71                      0.0                 21   \n",
       "3                 2.83                      0.0                 29   \n",
       "4                 5.04                      0.0                 36   \n",
       "5                 2.51                      0.0                 38   \n",
       "\n",
       "   FairlyActiveMinutes  LightlyActiveMinutes  SedentaryMinutes  Calories  \\\n",
       "0                   13                   328               728      1985   \n",
       "1                   19                   217               776      1797   \n",
       "3                   34                   209               726      1745   \n",
       "4                   10                   221               773      1863   \n",
       "5                   20                   164               539      1728   \n",
       "\n",
       "   TotalSleepRecords  TotalMinutesAsleep  TotalTimeInBed  \n",
       "0                1.0               327.0           346.0  \n",
       "1                2.0               384.0           407.0  \n",
       "3                1.0               412.0           442.0  \n",
       "4                2.0               340.0           367.0  \n",
       "5                1.0               700.0           712.0  "
      ]
     },
     "execution_count": 8,
     "metadata": {},
     "output_type": "execute_result"
    }
   ],
   "source": [
    "df_merged.head()"
   ]
  },
  {
   "cell_type": "markdown",
   "id": "82df5d23",
   "metadata": {},
   "source": [
    "Dado que ciertas columns son redundantes o no interesantes para responder a nuestra cuestion, reduciremos dimensiones del dataset"
   ]
  },
  {
   "cell_type": "code",
   "execution_count": 9,
   "id": "e6d578fa",
   "metadata": {},
   "outputs": [],
   "source": [
    "columns_to_drop = ['TrackerDistance',\n",
    "       'LoggedActivitiesDistance', 'VeryActiveDistance',\n",
    "       'ModeratelyActiveDistance', 'LightActiveDistance',\n",
    "       'SedentaryActiveDistance',\n",
    "       'TotalSleepRecords',  'TotalTimeInBed']\n",
    "\n",
    "df_merged = df_merged.drop(columns = columns_to_drop)"
   ]
  },
  {
   "cell_type": "markdown",
   "id": "daa4279c",
   "metadata": {},
   "source": [
    "### 3 Limpieza de los datos."
   ]
  },
  {
   "cell_type": "markdown",
   "id": "326648b0",
   "metadata": {},
   "source": [
    "Obtenemos info relevante del nuevo dataframe"
   ]
  },
  {
   "cell_type": "code",
   "execution_count": 10,
   "id": "3c572aff",
   "metadata": {},
   "outputs": [
    {
     "data": {
      "text/html": [
       "<div>\n",
       "<style scoped>\n",
       "    .dataframe tbody tr th:only-of-type {\n",
       "        vertical-align: middle;\n",
       "    }\n",
       "\n",
       "    .dataframe tbody tr th {\n",
       "        vertical-align: top;\n",
       "    }\n",
       "\n",
       "    .dataframe thead th {\n",
       "        text-align: right;\n",
       "    }\n",
       "</style>\n",
       "<table border=\"1\" class=\"dataframe\">\n",
       "  <thead>\n",
       "    <tr style=\"text-align: right;\">\n",
       "      <th></th>\n",
       "      <th>Id</th>\n",
       "      <th>TotalSteps</th>\n",
       "      <th>TotalDistance</th>\n",
       "      <th>VeryActiveMinutes</th>\n",
       "      <th>FairlyActiveMinutes</th>\n",
       "      <th>LightlyActiveMinutes</th>\n",
       "      <th>SedentaryMinutes</th>\n",
       "      <th>Calories</th>\n",
       "      <th>TotalMinutesAsleep</th>\n",
       "    </tr>\n",
       "  </thead>\n",
       "  <tbody>\n",
       "    <tr>\n",
       "      <th>count</th>\n",
       "      <td>4.130000e+02</td>\n",
       "      <td>413.000000</td>\n",
       "      <td>413.000000</td>\n",
       "      <td>413.000000</td>\n",
       "      <td>413.000000</td>\n",
       "      <td>413.000000</td>\n",
       "      <td>413.000000</td>\n",
       "      <td>413.000000</td>\n",
       "      <td>413.000000</td>\n",
       "    </tr>\n",
       "    <tr>\n",
       "      <th>mean</th>\n",
       "      <td>5.000979e+09</td>\n",
       "      <td>8541.140436</td>\n",
       "      <td>6.038620</td>\n",
       "      <td>25.188862</td>\n",
       "      <td>18.038741</td>\n",
       "      <td>216.854722</td>\n",
       "      <td>712.169492</td>\n",
       "      <td>2397.573850</td>\n",
       "      <td>419.467312</td>\n",
       "    </tr>\n",
       "    <tr>\n",
       "      <th>std</th>\n",
       "      <td>2.060360e+09</td>\n",
       "      <td>4156.926990</td>\n",
       "      <td>3.051998</td>\n",
       "      <td>36.388187</td>\n",
       "      <td>22.403590</td>\n",
       "      <td>87.164687</td>\n",
       "      <td>165.957432</td>\n",
       "      <td>762.886326</td>\n",
       "      <td>118.344679</td>\n",
       "    </tr>\n",
       "    <tr>\n",
       "      <th>min</th>\n",
       "      <td>1.503960e+09</td>\n",
       "      <td>17.000000</td>\n",
       "      <td>0.010000</td>\n",
       "      <td>0.000000</td>\n",
       "      <td>0.000000</td>\n",
       "      <td>2.000000</td>\n",
       "      <td>0.000000</td>\n",
       "      <td>257.000000</td>\n",
       "      <td>58.000000</td>\n",
       "    </tr>\n",
       "    <tr>\n",
       "      <th>25%</th>\n",
       "      <td>3.977334e+09</td>\n",
       "      <td>5206.000000</td>\n",
       "      <td>3.600000</td>\n",
       "      <td>0.000000</td>\n",
       "      <td>0.000000</td>\n",
       "      <td>158.000000</td>\n",
       "      <td>631.000000</td>\n",
       "      <td>1850.000000</td>\n",
       "      <td>361.000000</td>\n",
       "    </tr>\n",
       "    <tr>\n",
       "      <th>50%</th>\n",
       "      <td>4.702922e+09</td>\n",
       "      <td>8925.000000</td>\n",
       "      <td>6.290000</td>\n",
       "      <td>9.000000</td>\n",
       "      <td>11.000000</td>\n",
       "      <td>208.000000</td>\n",
       "      <td>717.000000</td>\n",
       "      <td>2220.000000</td>\n",
       "      <td>433.000000</td>\n",
       "    </tr>\n",
       "    <tr>\n",
       "      <th>75%</th>\n",
       "      <td>6.962181e+09</td>\n",
       "      <td>11393.000000</td>\n",
       "      <td>8.030000</td>\n",
       "      <td>38.000000</td>\n",
       "      <td>27.000000</td>\n",
       "      <td>263.000000</td>\n",
       "      <td>783.000000</td>\n",
       "      <td>2926.000000</td>\n",
       "      <td>490.000000</td>\n",
       "    </tr>\n",
       "    <tr>\n",
       "      <th>max</th>\n",
       "      <td>8.792010e+09</td>\n",
       "      <td>22770.000000</td>\n",
       "      <td>17.540001</td>\n",
       "      <td>210.000000</td>\n",
       "      <td>143.000000</td>\n",
       "      <td>518.000000</td>\n",
       "      <td>1265.000000</td>\n",
       "      <td>4900.000000</td>\n",
       "      <td>796.000000</td>\n",
       "    </tr>\n",
       "  </tbody>\n",
       "</table>\n",
       "</div>"
      ],
      "text/plain": [
       "                 Id    TotalSteps  TotalDistance  VeryActiveMinutes  \\\n",
       "count  4.130000e+02    413.000000     413.000000         413.000000   \n",
       "mean   5.000979e+09   8541.140436       6.038620          25.188862   \n",
       "std    2.060360e+09   4156.926990       3.051998          36.388187   \n",
       "min    1.503960e+09     17.000000       0.010000           0.000000   \n",
       "25%    3.977334e+09   5206.000000       3.600000           0.000000   \n",
       "50%    4.702922e+09   8925.000000       6.290000           9.000000   \n",
       "75%    6.962181e+09  11393.000000       8.030000          38.000000   \n",
       "max    8.792010e+09  22770.000000      17.540001         210.000000   \n",
       "\n",
       "       FairlyActiveMinutes  LightlyActiveMinutes  SedentaryMinutes  \\\n",
       "count           413.000000            413.000000        413.000000   \n",
       "mean             18.038741            216.854722        712.169492   \n",
       "std              22.403590             87.164687        165.957432   \n",
       "min               0.000000              2.000000          0.000000   \n",
       "25%               0.000000            158.000000        631.000000   \n",
       "50%              11.000000            208.000000        717.000000   \n",
       "75%              27.000000            263.000000        783.000000   \n",
       "max             143.000000            518.000000       1265.000000   \n",
       "\n",
       "          Calories  TotalMinutesAsleep  \n",
       "count   413.000000          413.000000  \n",
       "mean   2397.573850          419.467312  \n",
       "std     762.886326          118.344679  \n",
       "min     257.000000           58.000000  \n",
       "25%    1850.000000          361.000000  \n",
       "50%    2220.000000          433.000000  \n",
       "75%    2926.000000          490.000000  \n",
       "max    4900.000000          796.000000  "
      ]
     },
     "execution_count": 10,
     "metadata": {},
     "output_type": "execute_result"
    }
   ],
   "source": [
    "df_description = pd.DataFrame.describe(df_merged)\n",
    "df_description"
   ]
  },
  {
   "cell_type": "markdown",
   "id": "c99ca443",
   "metadata": {},
   "source": [
    "Estudiamos, a continuacion, las variables mas importantes"
   ]
  },
  {
   "cell_type": "code",
   "execution_count": 11,
   "id": "36090e51",
   "metadata": {},
   "outputs": [
    {
     "data": {
      "image/png": "[encoded data removed]",
      "text/plain": [
       "<Figure size 432x288 with 1 Axes>"
      ]
     },
     "metadata": {
      "needs_background": "light"
     },
     "output_type": "display_data"
    }
   ],
   "source": [
    "boxplot_TS = pd.DataFrame.boxplot(df_merged['TotalSteps'], return_type='both')\n"
   ]
  },
  {
   "cell_type": "code",
   "execution_count": 12,
   "id": "27a34c6d",
   "metadata": {},
   "outputs": [
    {
     "data": {
      "text/html": [
       "<div>\n",
       "<style scoped>\n",
       "    .dataframe tbody tr th:only-of-type {\n",
       "        vertical-align: middle;\n",
       "    }\n",
       "\n",
       "    .dataframe tbody tr th {\n",
       "        vertical-align: top;\n",
       "    }\n",
       "\n",
       "    .dataframe thead th {\n",
       "        text-align: right;\n",
       "    }\n",
       "</style>\n",
       "<table border=\"1\" class=\"dataframe\">\n",
       "  <thead>\n",
       "    <tr style=\"text-align: right;\">\n",
       "      <th></th>\n",
       "      <th>index</th>\n",
       "      <th>Id</th>\n",
       "      <th>Date</th>\n",
       "      <th>TotalSteps</th>\n",
       "      <th>TotalDistance</th>\n",
       "      <th>VeryActiveMinutes</th>\n",
       "      <th>FairlyActiveMinutes</th>\n",
       "      <th>LightlyActiveMinutes</th>\n",
       "      <th>SedentaryMinutes</th>\n",
       "      <th>Calories</th>\n",
       "      <th>TotalMinutesAsleep</th>\n",
       "    </tr>\n",
       "  </thead>\n",
       "  <tbody>\n",
       "    <tr>\n",
       "      <th>0</th>\n",
       "      <td>321</td>\n",
       "      <td>4388161847</td>\n",
       "      <td>2016-05-07</td>\n",
       "      <td>22770</td>\n",
       "      <td>17.540001</td>\n",
       "      <td>120</td>\n",
       "      <td>56</td>\n",
       "      <td>260</td>\n",
       "      <td>508</td>\n",
       "      <td>4022</td>\n",
       "      <td>472.0</td>\n",
       "    </tr>\n",
       "    <tr>\n",
       "      <th>1</th>\n",
       "      <td>635</td>\n",
       "      <td>8053475328</td>\n",
       "      <td>2016-04-23</td>\n",
       "      <td>22359</td>\n",
       "      <td>17.190001</td>\n",
       "      <td>125</td>\n",
       "      <td>14</td>\n",
       "      <td>223</td>\n",
       "      <td>741</td>\n",
       "      <td>3554</td>\n",
       "      <td>331.0</td>\n",
       "    </tr>\n",
       "  </tbody>\n",
       "</table>\n",
       "</div>"
      ],
      "text/plain": [
       "   index          Id       Date  TotalSteps  TotalDistance  VeryActiveMinutes  \\\n",
       "0    321  4388161847 2016-05-07       22770      17.540001                120   \n",
       "1    635  8053475328 2016-04-23       22359      17.190001                125   \n",
       "\n",
       "   FairlyActiveMinutes  LightlyActiveMinutes  SedentaryMinutes  Calories  \\\n",
       "0                   56                   260               508      4022   \n",
       "1                   14                   223               741      3554   \n",
       "\n",
       "   TotalMinutesAsleep  \n",
       "0               472.0  \n",
       "1               331.0  "
      ]
     },
     "execution_count": 12,
     "metadata": {},
     "output_type": "execute_result"
    }
   ],
   "source": [
    "whiskers = [whiskers.get_ydata() for whiskers in boxplot_TS[1][\"whiskers\"]]\n",
    "\n",
    "df_TS_up = df_merged.loc[df_merged['TotalSteps']>whiskers[1][1]].reset_index()\n",
    "df_TS_up"
   ]
  },
  {
   "cell_type": "markdown",
   "id": "66c4e5df",
   "metadata": {},
   "source": [
    " A pesar de ser considerados outliers, podemos entender que la medicion es correcta, por lo que no alteraremos dichos datos"
   ]
  },
  {
   "cell_type": "code",
   "execution_count": 13,
   "id": "3f048946",
   "metadata": {},
   "outputs": [
    {
     "data": {
      "text/html": [
       "<div>\n",
       "<style scoped>\n",
       "    .dataframe tbody tr th:only-of-type {\n",
       "        vertical-align: middle;\n",
       "    }\n",
       "\n",
       "    .dataframe tbody tr th {\n",
       "        vertical-align: top;\n",
       "    }\n",
       "\n",
       "    .dataframe thead th {\n",
       "        text-align: right;\n",
       "    }\n",
       "</style>\n",
       "<table border=\"1\" class=\"dataframe\">\n",
       "  <thead>\n",
       "    <tr style=\"text-align: right;\">\n",
       "      <th></th>\n",
       "      <th>index</th>\n",
       "      <th>Id</th>\n",
       "      <th>Date</th>\n",
       "      <th>TotalSteps</th>\n",
       "      <th>TotalDistance</th>\n",
       "      <th>VeryActiveMinutes</th>\n",
       "      <th>FairlyActiveMinutes</th>\n",
       "      <th>LightlyActiveMinutes</th>\n",
       "      <th>SedentaryMinutes</th>\n",
       "      <th>Calories</th>\n",
       "      <th>TotalMinutesAsleep</th>\n",
       "    </tr>\n",
       "  </thead>\n",
       "  <tbody>\n",
       "    <tr>\n",
       "      <th>0</th>\n",
       "      <td>457</td>\n",
       "      <td>5577150313</td>\n",
       "      <td>2016-04-17</td>\n",
       "      <td>12231</td>\n",
       "      <td>9.14</td>\n",
       "      <td>200</td>\n",
       "      <td>37</td>\n",
       "      <td>159</td>\n",
       "      <td>525</td>\n",
       "      <td>4552</td>\n",
       "      <td>549.0</td>\n",
       "    </tr>\n",
       "    <tr>\n",
       "      <th>1</th>\n",
       "      <td>471</td>\n",
       "      <td>5577150313</td>\n",
       "      <td>2016-05-01</td>\n",
       "      <td>13368</td>\n",
       "      <td>9.99</td>\n",
       "      <td>194</td>\n",
       "      <td>72</td>\n",
       "      <td>178</td>\n",
       "      <td>499</td>\n",
       "      <td>4546</td>\n",
       "      <td>379.0</td>\n",
       "    </tr>\n",
       "    <tr>\n",
       "      <th>2</th>\n",
       "      <td>491</td>\n",
       "      <td>6117666160</td>\n",
       "      <td>2016-04-21</td>\n",
       "      <td>19542</td>\n",
       "      <td>15.01</td>\n",
       "      <td>11</td>\n",
       "      <td>19</td>\n",
       "      <td>294</td>\n",
       "      <td>579</td>\n",
       "      <td>4900</td>\n",
       "      <td>508.0</td>\n",
       "    </tr>\n",
       "  </tbody>\n",
       "</table>\n",
       "</div>"
      ],
      "text/plain": [
       "   index          Id       Date  TotalSteps  TotalDistance  VeryActiveMinutes  \\\n",
       "0    457  5577150313 2016-04-17       12231           9.14                200   \n",
       "1    471  5577150313 2016-05-01       13368           9.99                194   \n",
       "2    491  6117666160 2016-04-21       19542          15.01                 11   \n",
       "\n",
       "   FairlyActiveMinutes  LightlyActiveMinutes  SedentaryMinutes  Calories  \\\n",
       "0                   37                   159               525      4552   \n",
       "1                   72                   178               499      4546   \n",
       "2                   19                   294               579      4900   \n",
       "\n",
       "   TotalMinutesAsleep  \n",
       "0               549.0  \n",
       "1               379.0  \n",
       "2               508.0  "
      ]
     },
     "execution_count": 13,
     "metadata": {},
     "output_type": "execute_result"
    },
    {
     "data": {
      "image/png": "[encoded data removed]",
      "text/plain": [
       "<Figure size 432x288 with 1 Axes>"
      ]
     },
     "metadata": {
      "needs_background": "light"
     },
     "output_type": "display_data"
    }
   ],
   "source": [
    "boxplot_kCal = pd.DataFrame.boxplot(df_merged['Calories'], return_type='both')\n",
    "whiskers1 = [whiskers.get_ydata() for whiskers in boxplot_kCal[1][\"whiskers\"]]\n",
    "df_kCal_up = df_merged.loc[df_merged['Calories']>whiskers1[1][1]].reset_index()\n",
    "df_kCal_up\n"
   ]
  },
  {
   "cell_type": "markdown",
   "id": "23ff2263",
   "metadata": {},
   "source": [
    "En este caso, resulta más preocupante que el consumo de calorías por debajo de 1000 Kcal no sea un outlier. Difícilmente un cuerpo humano gasta menos de 1200 Kcal en estado basal, por lo que las mediciones por debajo de este número indican un mal registro de las calorías. Por ello eliminaremos todos los registros que queden por debajo de la media menos un medio de la desviación estándar"
   ]
  },
  {
   "cell_type": "code",
   "execution_count": 14,
   "id": "e4999718",
   "metadata": {},
   "outputs": [
    {
     "data": {
      "image/png": "[encoded data removed]",
      "text/plain": [
       "<Figure size 432x288 with 1 Axes>"
      ]
     },
     "metadata": {
      "needs_background": "light"
     },
     "output_type": "display_data"
    }
   ],
   "source": [
    " df_merged = df_merged.loc[df_merged['Calories']> (df_merged.Calories.mean() - 1.5 * df_merged.Calories.std())]\n",
    "boxplot_kCal = pd.DataFrame.boxplot(df_merged['Calories'], return_type='both')\n"
   ]
  },
  {
   "cell_type": "markdown",
   "id": "1f2a9a21",
   "metadata": {},
   "source": [
    "Por ultimo, estudiamos la variable 'MinutesSleep'"
   ]
  },
  {
   "cell_type": "code",
   "execution_count": 15,
   "id": "41aad6a2",
   "metadata": {},
   "outputs": [
    {
     "data": {
      "image/png": "[encoded data removed]",
      "text/plain": [
       "<Figure size 432x288 with 1 Axes>"
      ]
     },
     "metadata": {
      "needs_background": "light"
     },
     "output_type": "display_data"
    }
   ],
   "source": [
    "boxplot_MS = df_merged.boxplot(column=['TotalMinutesAsleep'], return_type='both')\n",
    "whiskers2 = [whiskers.get_ydata() for whiskers in boxplot_MS[1][\"whiskers\"]]"
   ]
  },
  {
   "cell_type": "code",
   "execution_count": 16,
   "id": "5101cad2",
   "metadata": {},
   "outputs": [
    {
     "data": {
      "text/html": [
       "<div>\n",
       "<style scoped>\n",
       "    .dataframe tbody tr th:only-of-type {\n",
       "        vertical-align: middle;\n",
       "    }\n",
       "\n",
       "    .dataframe tbody tr th {\n",
       "        vertical-align: top;\n",
       "    }\n",
       "\n",
       "    .dataframe thead th {\n",
       "        text-align: right;\n",
       "    }\n",
       "</style>\n",
       "<table border=\"1\" class=\"dataframe\">\n",
       "  <thead>\n",
       "    <tr style=\"text-align: right;\">\n",
       "      <th></th>\n",
       "      <th>index</th>\n",
       "      <th>Id</th>\n",
       "      <th>Date</th>\n",
       "      <th>TotalSteps</th>\n",
       "      <th>TotalDistance</th>\n",
       "      <th>VeryActiveMinutes</th>\n",
       "      <th>FairlyActiveMinutes</th>\n",
       "      <th>LightlyActiveMinutes</th>\n",
       "      <th>SedentaryMinutes</th>\n",
       "      <th>Calories</th>\n",
       "      <th>TotalMinutesAsleep</th>\n",
       "    </tr>\n",
       "  </thead>\n",
       "  <tbody>\n",
       "    <tr>\n",
       "      <th>0</th>\n",
       "      <td>5</td>\n",
       "      <td>1503960366</td>\n",
       "      <td>2016-04-17</td>\n",
       "      <td>9705</td>\n",
       "      <td>6.48</td>\n",
       "      <td>38</td>\n",
       "      <td>20</td>\n",
       "      <td>164</td>\n",
       "      <td>539</td>\n",
       "      <td>1728</td>\n",
       "      <td>700.0</td>\n",
       "    </tr>\n",
       "    <tr>\n",
       "      <th>1</th>\n",
       "      <td>51</td>\n",
       "      <td>1644430081</td>\n",
       "      <td>2016-05-02</td>\n",
       "      <td>3758</td>\n",
       "      <td>2.73</td>\n",
       "      <td>1</td>\n",
       "      <td>7</td>\n",
       "      <td>148</td>\n",
       "      <td>682</td>\n",
       "      <td>2580</td>\n",
       "      <td>796.0</td>\n",
       "    </tr>\n",
       "    <tr>\n",
       "      <th>2</th>\n",
       "      <td>79</td>\n",
       "      <td>1844505072</td>\n",
       "      <td>2016-04-30</td>\n",
       "      <td>4014</td>\n",
       "      <td>2.67</td>\n",
       "      <td>0</td>\n",
       "      <td>0</td>\n",
       "      <td>184</td>\n",
       "      <td>218</td>\n",
       "      <td>1763</td>\n",
       "      <td>722.0</td>\n",
       "    </tr>\n",
       "    <tr>\n",
       "      <th>3</th>\n",
       "      <td>92</td>\n",
       "      <td>1927972279</td>\n",
       "      <td>2016-04-12</td>\n",
       "      <td>678</td>\n",
       "      <td>0.47</td>\n",
       "      <td>0</td>\n",
       "      <td>0</td>\n",
       "      <td>55</td>\n",
       "      <td>734</td>\n",
       "      <td>2220</td>\n",
       "      <td>750.0</td>\n",
       "    </tr>\n",
       "    <tr>\n",
       "      <th>4</th>\n",
       "      <td>275</td>\n",
       "      <td>4319703577</td>\n",
       "      <td>2016-04-23</td>\n",
       "      <td>4935</td>\n",
       "      <td>3.31</td>\n",
       "      <td>0</td>\n",
       "      <td>0</td>\n",
       "      <td>233</td>\n",
       "      <td>546</td>\n",
       "      <td>1945</td>\n",
       "      <td>692.0</td>\n",
       "    </tr>\n",
       "    <tr>\n",
       "      <th>5</th>\n",
       "      <td>439</td>\n",
       "      <td>5553957443</td>\n",
       "      <td>2016-04-30</td>\n",
       "      <td>1202</td>\n",
       "      <td>0.78</td>\n",
       "      <td>0</td>\n",
       "      <td>0</td>\n",
       "      <td>84</td>\n",
       "      <td>506</td>\n",
       "      <td>1463</td>\n",
       "      <td>775.0</td>\n",
       "    </tr>\n",
       "  </tbody>\n",
       "</table>\n",
       "</div>"
      ],
      "text/plain": [
       "   index          Id       Date  TotalSteps  TotalDistance  VeryActiveMinutes  \\\n",
       "0      5  1503960366 2016-04-17        9705           6.48                 38   \n",
       "1     51  1644430081 2016-05-02        3758           2.73                  1   \n",
       "2     79  1844505072 2016-04-30        4014           2.67                  0   \n",
       "3     92  1927972279 2016-04-12         678           0.47                  0   \n",
       "4    275  4319703577 2016-04-23        4935           3.31                  0   \n",
       "5    439  5553957443 2016-04-30        1202           0.78                  0   \n",
       "\n",
       "   FairlyActiveMinutes  LightlyActiveMinutes  SedentaryMinutes  Calories  \\\n",
       "0                   20                   164               539      1728   \n",
       "1                    7                   148               682      2580   \n",
       "2                    0                   184               218      1763   \n",
       "3                    0                    55               734      2220   \n",
       "4                    0                   233               546      1945   \n",
       "5                    0                    84               506      1463   \n",
       "\n",
       "   TotalMinutesAsleep  \n",
       "0               700.0  \n",
       "1               796.0  \n",
       "2               722.0  \n",
       "3               750.0  \n",
       "4               692.0  \n",
       "5               775.0  "
      ]
     },
     "execution_count": 16,
     "metadata": {},
     "output_type": "execute_result"
    }
   ],
   "source": [
    "df_MS_up = df_merged.loc[df_merged['TotalMinutesAsleep']>whiskers2[1][1]].reset_index()\n",
    "df_MS_up\n"
   ]
  },
  {
   "cell_type": "markdown",
   "id": "ebef7ace",
   "metadata": {},
   "source": [
    "En este caso, nos desharemos de los outliers tanto por arria como por abajo ya que, en ambos casos, parece deberse a un error de medicion."
   ]
  },
  {
   "cell_type": "code",
   "execution_count": 17,
   "id": "b97d4bbb",
   "metadata": {},
   "outputs": [],
   "source": [
    "df_merged = df_merged.loc[df_merged['TotalMinutesAsleep']>whiskers2[0][1]].reset_index()\n"
   ]
  },
  {
   "cell_type": "code",
   "execution_count": 18,
   "id": "b7f34f32",
   "metadata": {},
   "outputs": [],
   "source": [
    "df_merged = df_merged.loc[df_merged['TotalMinutesAsleep']<whiskers2[1][1]].reset_index()\n"
   ]
  },
  {
   "cell_type": "markdown",
   "id": "8087c734",
   "metadata": {},
   "source": [
    "### 4 Analisis de los datos"
   ]
  },
  {
   "cell_type": "markdown",
   "id": "e91f1797",
   "metadata": {},
   "source": [
    "Estudiamos la normalidad de TotalSteps"
   ]
  },
  {
   "cell_type": "code",
   "execution_count": 19,
   "id": "2d3459ff",
   "metadata": {},
   "outputs": [
    {
     "data": {
      "text/plain": [
       "<AxesSubplot:>"
      ]
     },
     "execution_count": 19,
     "metadata": {},
     "output_type": "execute_result"
    },
    {
     "data": {
      "image/png": "[encoded data removed]",
      "text/plain": [
       "<Figure size 432x288 with 1 Axes>"
      ]
     },
     "metadata": {
      "needs_background": "light"
     },
     "output_type": "display_data"
    }
   ],
   "source": [
    "df_merged.TotalSteps.hist()"
   ]
  },
  {
   "cell_type": "code",
   "execution_count": 20,
   "id": "4880dac0",
   "metadata": {},
   "outputs": [
    {
     "data": {
      "text/plain": [
       "ShapiroResult(statistic=0.9868819117546082, pvalue=0.0018110732780769467)"
      ]
     },
     "execution_count": 20,
     "metadata": {},
     "output_type": "execute_result"
    }
   ],
   "source": [
    "stats.shapiro(df_merged.TotalSteps)"
   ]
  },
  {
   "cell_type": "markdown",
   "id": "f5bbd19c",
   "metadata": {},
   "source": [
    "Rechazamos la hipotesis nula. La distribucion no es normal. Realizamos los mismos tests para calories y minutos de sueno."
   ]
  },
  {
   "cell_type": "code",
   "execution_count": 21,
   "id": "e90c53cb",
   "metadata": {},
   "outputs": [
    {
     "data": {
      "text/plain": [
       "<AxesSubplot:>"
      ]
     },
     "execution_count": 21,
     "metadata": {},
     "output_type": "execute_result"
    },
    {
     "data": {
      "image/png": "[encoded data removed]",
      "text/plain": [
       "<Figure size 432x288 with 1 Axes>"
      ]
     },
     "metadata": {
      "needs_background": "light"
     },
     "output_type": "display_data"
    }
   ],
   "source": [
    "df_merged.Calories.hist()"
   ]
  },
  {
   "cell_type": "code",
   "execution_count": 22,
   "id": "f10b7ec6",
   "metadata": {},
   "outputs": [
    {
     "data": {
      "text/plain": [
       "ShapiroResult(statistic=0.939013659954071, pvalue=2.786465329307486e-11)"
      ]
     },
     "execution_count": 22,
     "metadata": {},
     "output_type": "execute_result"
    }
   ],
   "source": [
    "stats.shapiro(df_merged.Calories)"
   ]
  },
  {
   "cell_type": "code",
   "execution_count": 23,
   "id": "dfe0c96b",
   "metadata": {},
   "outputs": [
    {
     "data": {
      "text/plain": [
       "<AxesSubplot:>"
      ]
     },
     "execution_count": 23,
     "metadata": {},
     "output_type": "execute_result"
    },
    {
     "data": {
      "image/png": "[encoded data removed]",
      "text/plain": [
       "<Figure size 432x288 with 1 Axes>"
      ]
     },
     "metadata": {
      "needs_background": "light"
     },
     "output_type": "display_data"
    }
   ],
   "source": [
    "df_merged.TotalMinutesAsleep.hist()"
   ]
  },
  {
   "cell_type": "code",
   "execution_count": 24,
   "id": "43ff3844",
   "metadata": {},
   "outputs": [
    {
     "data": {
      "text/plain": [
       "ShapiroResult(statistic=0.9945306777954102, pvalue=0.20215818285942078)"
      ]
     },
     "execution_count": 24,
     "metadata": {},
     "output_type": "execute_result"
    }
   ],
   "source": [
    "stats.shapiro(df_merged.TotalMinutesAsleep)"
   ]
  },
  {
   "cell_type": "markdown",
   "id": "fb642a0d",
   "metadata": {},
   "source": [
    "Los test nos impiden asumir normalidad en la distribucion de las tres variables analizadas. Sin embargo, el teorema del limite central nos permite asumir dicha normalidad y realizar ciertos tests."
   ]
  },
  {
   "cell_type": "markdown",
   "id": "1f66cb4c",
   "metadata": {},
   "source": [
    "Estudiamos la correlacion entre las diferentes variables:"
   ]
  },
  {
   "cell_type": "code",
   "execution_count": 25,
   "id": "2303a878",
   "metadata": {},
   "outputs": [],
   "source": [
    "df_merged = df_merged.drop(['level_0', 'index', 'Id'], axis=1)\n",
    "\n"
   ]
  },
  {
   "cell_type": "code",
   "execution_count": 26,
   "id": "201b02b4",
   "metadata": {},
   "outputs": [
    {
     "data": {
      "text/html": [
       "<div>\n",
       "<style scoped>\n",
       "    .dataframe tbody tr th:only-of-type {\n",
       "        vertical-align: middle;\n",
       "    }\n",
       "\n",
       "    .dataframe tbody tr th {\n",
       "        vertical-align: top;\n",
       "    }\n",
       "\n",
       "    .dataframe thead th {\n",
       "        text-align: right;\n",
       "    }\n",
       "</style>\n",
       "<table border=\"1\" class=\"dataframe\">\n",
       "  <thead>\n",
       "    <tr style=\"text-align: right;\">\n",
       "      <th></th>\n",
       "      <th>TotalSteps</th>\n",
       "      <th>TotalDistance</th>\n",
       "      <th>VeryActiveMinutes</th>\n",
       "      <th>FairlyActiveMinutes</th>\n",
       "      <th>LightlyActiveMinutes</th>\n",
       "      <th>SedentaryMinutes</th>\n",
       "      <th>Calories</th>\n",
       "      <th>TotalMinutesAsleep</th>\n",
       "    </tr>\n",
       "  </thead>\n",
       "  <tbody>\n",
       "    <tr>\n",
       "      <th>TotalSteps</th>\n",
       "      <td>1.000000</td>\n",
       "      <td>0.978660</td>\n",
       "      <td>0.537344</td>\n",
       "      <td>0.557055</td>\n",
       "      <td>0.339776</td>\n",
       "      <td>-0.269008</td>\n",
       "      <td>0.351440</td>\n",
       "      <td>-0.265932</td>\n",
       "    </tr>\n",
       "    <tr>\n",
       "      <th>TotalDistance</th>\n",
       "      <td>0.978660</td>\n",
       "      <td>1.000000</td>\n",
       "      <td>0.572206</td>\n",
       "      <td>0.539088</td>\n",
       "      <td>0.308551</td>\n",
       "      <td>-0.269241</td>\n",
       "      <td>0.486314</td>\n",
       "      <td>-0.231362</td>\n",
       "    </tr>\n",
       "    <tr>\n",
       "      <th>VeryActiveMinutes</th>\n",
       "      <td>0.537344</td>\n",
       "      <td>0.572206</td>\n",
       "      <td>1.000000</td>\n",
       "      <td>0.310706</td>\n",
       "      <td>-0.273779</td>\n",
       "      <td>-0.066145</td>\n",
       "      <td>0.615788</td>\n",
       "      <td>-0.120325</td>\n",
       "    </tr>\n",
       "    <tr>\n",
       "      <th>FairlyActiveMinutes</th>\n",
       "      <td>0.557055</td>\n",
       "      <td>0.539088</td>\n",
       "      <td>0.310706</td>\n",
       "      <td>1.000000</td>\n",
       "      <td>-0.083967</td>\n",
       "      <td>-0.087891</td>\n",
       "      <td>0.147936</td>\n",
       "      <td>-0.334053</td>\n",
       "    </tr>\n",
       "    <tr>\n",
       "      <th>LightlyActiveMinutes</th>\n",
       "      <td>0.339776</td>\n",
       "      <td>0.308551</td>\n",
       "      <td>-0.273779</td>\n",
       "      <td>-0.083967</td>\n",
       "      <td>1.000000</td>\n",
       "      <td>-0.506962</td>\n",
       "      <td>0.008884</td>\n",
       "      <td>0.071294</td>\n",
       "    </tr>\n",
       "    <tr>\n",
       "      <th>SedentaryMinutes</th>\n",
       "      <td>-0.269008</td>\n",
       "      <td>-0.269241</td>\n",
       "      <td>-0.066145</td>\n",
       "      <td>-0.087891</td>\n",
       "      <td>-0.506962</td>\n",
       "      <td>1.000000</td>\n",
       "      <td>-0.063182</td>\n",
       "      <td>-0.505317</td>\n",
       "    </tr>\n",
       "    <tr>\n",
       "      <th>Calories</th>\n",
       "      <td>0.351440</td>\n",
       "      <td>0.486314</td>\n",
       "      <td>0.615788</td>\n",
       "      <td>0.147936</td>\n",
       "      <td>0.008884</td>\n",
       "      <td>-0.063182</td>\n",
       "      <td>1.000000</td>\n",
       "      <td>0.031266</td>\n",
       "    </tr>\n",
       "    <tr>\n",
       "      <th>TotalMinutesAsleep</th>\n",
       "      <td>-0.265932</td>\n",
       "      <td>-0.231362</td>\n",
       "      <td>-0.120325</td>\n",
       "      <td>-0.334053</td>\n",
       "      <td>0.071294</td>\n",
       "      <td>-0.505317</td>\n",
       "      <td>0.031266</td>\n",
       "      <td>1.000000</td>\n",
       "    </tr>\n",
       "  </tbody>\n",
       "</table>\n",
       "</div>"
      ],
      "text/plain": [
       "                      TotalSteps  TotalDistance  VeryActiveMinutes  \\\n",
       "TotalSteps              1.000000       0.978660           0.537344   \n",
       "TotalDistance           0.978660       1.000000           0.572206   \n",
       "VeryActiveMinutes       0.537344       0.572206           1.000000   \n",
       "FairlyActiveMinutes     0.557055       0.539088           0.310706   \n",
       "LightlyActiveMinutes    0.339776       0.308551          -0.273779   \n",
       "SedentaryMinutes       -0.269008      -0.269241          -0.066145   \n",
       "Calories                0.351440       0.486314           0.615788   \n",
       "TotalMinutesAsleep     -0.265932      -0.231362          -0.120325   \n",
       "\n",
       "                      FairlyActiveMinutes  LightlyActiveMinutes  \\\n",
       "TotalSteps                       0.557055              0.339776   \n",
       "TotalDistance                    0.539088              0.308551   \n",
       "VeryActiveMinutes                0.310706             -0.273779   \n",
       "FairlyActiveMinutes              1.000000             -0.083967   \n",
       "LightlyActiveMinutes            -0.083967              1.000000   \n",
       "SedentaryMinutes                -0.087891             -0.506962   \n",
       "Calories                         0.147936              0.008884   \n",
       "TotalMinutesAsleep              -0.334053              0.071294   \n",
       "\n",
       "                      SedentaryMinutes  Calories  TotalMinutesAsleep  \n",
       "TotalSteps                   -0.269008  0.351440           -0.265932  \n",
       "TotalDistance                -0.269241  0.486314           -0.231362  \n",
       "VeryActiveMinutes            -0.066145  0.615788           -0.120325  \n",
       "FairlyActiveMinutes          -0.087891  0.147936           -0.334053  \n",
       "LightlyActiveMinutes         -0.506962  0.008884            0.071294  \n",
       "SedentaryMinutes              1.000000 -0.063182           -0.505317  \n",
       "Calories                     -0.063182  1.000000            0.031266  \n",
       "TotalMinutesAsleep           -0.505317  0.031266            1.000000  "
      ]
     },
     "execution_count": 26,
     "metadata": {},
     "output_type": "execute_result"
    }
   ],
   "source": [
    "df_merged.corr()"
   ]
  },
  {
   "cell_type": "markdown",
   "id": "da4f3f4b",
   "metadata": {},
   "source": [
    "Podemos ver que, de acuerdo con los datos, la correlacion entre el consumo de calorias y los minutos de sueno no estan particularmente correlacionados. Si podriamos encontrar mas relevante, la correlacion que exite entre los minutos de ejercicio muy activo como el factor mas correlacionado con la quema de calorias. Podemos visualizar dichas correlaciones:"
   ]
  },
  {
   "cell_type": "markdown",
   "id": "a903a563",
   "metadata": {},
   "source": [
    "#### VeryActiveMinutes- Calories"
   ]
  },
  {
   "cell_type": "code",
   "execution_count": 27,
   "id": "49cd65ea",
   "metadata": {},
   "outputs": [
    {
     "data": {
      "text/plain": [
       "Text(0, 0.5, 'Calories')"
      ]
     },
     "execution_count": 27,
     "metadata": {},
     "output_type": "execute_result"
    },
    {
     "data": {
      "image/png": "[encoded data removed]",
      "text/plain": [
       "<Figure size 432x288 with 1 Axes>"
      ]
     },
     "metadata": {
      "needs_background": "light"
     },
     "output_type": "display_data"
    }
   ],
   "source": [
    "plt.scatter(df_merged.VeryActiveMinutes, df_merged.Calories)\n",
    "plt.xlabel(\"Very Active Minutes\")\n",
    "plt.ylabel(\"Calories\")"
   ]
  },
  {
   "cell_type": "markdown",
   "id": "70673ba3",
   "metadata": {},
   "source": [
    "#### TotalMinutesAsleep-Calories"
   ]
  },
  {
   "cell_type": "code",
   "execution_count": 28,
   "id": "80e04cfa",
   "metadata": {},
   "outputs": [
    {
     "data": {
      "image/png": "[encoded data removed]",
      "text/plain": [
       "<Figure size 432x288 with 1 Axes>"
      ]
     },
     "metadata": {
      "needs_background": "light"
     },
     "output_type": "display_data"
    }
   ],
   "source": [
    "plt.scatter(df_merged.TotalMinutesAsleep, df_merged.Calories)\n",
    "plt.xlabel(\"Total Minutes Asleep\")\n",
    "plt.ylabel(\"Calories\")\n",
    "plt.show()"
   ]
  },
  {
   "cell_type": "markdown",
   "id": "d1ab294b",
   "metadata": {},
   "source": [
    " #### TotalminutesAsleep-SedentaryMinutes"
   ]
  },
  {
   "cell_type": "code",
   "execution_count": 29,
   "id": "8d7c79f6",
   "metadata": {},
   "outputs": [
    {
     "data": {
      "image/png": "[encoded data removed]",
      "text/plain": [
       "<Figure size 432x288 with 1 Axes>"
      ]
     },
     "metadata": {
      "needs_background": "light"
     },
     "output_type": "display_data"
    }
   ],
   "source": [
    "plt.scatter(df_merged.TotalMinutesAsleep, df_merged.SedentaryMinutes)\n",
    "plt.xlabel(\"Tota Minutes Asleep\")\n",
    "plt.ylabel(\"Sedentary Minutes\")\n",
    "plt.show()"
   ]
  },
  {
   "cell_type": "markdown",
   "id": "fd6c87aa",
   "metadata": {},
   "source": [
    "Resulta ciertamente relevante la correlacion inversa que existe entre el total del tiempo dormido con respecto al tiempo de actividad sedentaria. Esto puede apuntar a aquellos qu duermen menos horas al dia tenderan a una mayor actividad sedenaria. Para profundizar en ello deberemos realizar nuevas operaciones.\n",
    "\n",
    "Para ello, clasificaremos a los registros entre sleepers 'dormidores' y non sleepers 'no dormidores' en base a si se encuentran por encima o por debajo de la media. Esto con el objetivo de identificar si existen diferencias significativas entre ambos grupos y el consumo de calorias y, como hemos visto, de minutos de actividad sedentaria."
   ]
  },
  {
   "cell_type": "code",
   "execution_count": 30,
   "id": "a22bb0f0",
   "metadata": {},
   "outputs": [],
   "source": [
    "df_merged['type'] = 'Non_type'\n",
    "\n",
    "df_merged.loc[(df_merged['TotalMinutesAsleep'] > statistics.mean(df_merged.TotalMinutesAsleep)), 'type'] = 'Sleepers'\n",
    "df_merged.loc[(df_merged['TotalMinutesAsleep'] < statistics.mean(df_merged.TotalMinutesAsleep)), 'type'] = 'NonSleepers'\n"
   ]
  },
  {
   "cell_type": "code",
   "execution_count": 31,
   "id": "38568b31",
   "metadata": {},
   "outputs": [
    {
     "data": {
      "text/plain": [
       "<AxesSubplot:>"
      ]
     },
     "execution_count": 31,
     "metadata": {},
     "output_type": "execute_result"
    },
    {
     "data": {
      "image/png": "[encoded data removed]",
      "text/plain": [
       "<Figure size 432x288 with 1 Axes>"
      ]
     },
     "metadata": {
      "needs_background": "light"
     },
     "output_type": "display_data"
    }
   ],
   "source": [
    "df_merged.type.value_counts().plot(kind='bar')"
   ]
  },
  {
   "cell_type": "code",
   "execution_count": 32,
   "id": "f90407c3",
   "metadata": {},
   "outputs": [
    {
     "data": {
      "text/html": [
       "<div>\n",
       "<style scoped>\n",
       "    .dataframe tbody tr th:only-of-type {\n",
       "        vertical-align: middle;\n",
       "    }\n",
       "\n",
       "    .dataframe tbody tr th {\n",
       "        vertical-align: top;\n",
       "    }\n",
       "\n",
       "    .dataframe thead th {\n",
       "        text-align: right;\n",
       "    }\n",
       "</style>\n",
       "<table border=\"1\" class=\"dataframe\">\n",
       "  <thead>\n",
       "    <tr style=\"text-align: right;\">\n",
       "      <th></th>\n",
       "      <th>TotalSteps</th>\n",
       "      <th>TotalDistance</th>\n",
       "      <th>VeryActiveMinutes</th>\n",
       "      <th>FairlyActiveMinutes</th>\n",
       "      <th>LightlyActiveMinutes</th>\n",
       "      <th>SedentaryMinutes</th>\n",
       "      <th>Calories</th>\n",
       "      <th>TotalMinutesAsleep</th>\n",
       "    </tr>\n",
       "    <tr>\n",
       "      <th>type</th>\n",
       "      <th></th>\n",
       "      <th></th>\n",
       "      <th></th>\n",
       "      <th></th>\n",
       "      <th></th>\n",
       "      <th></th>\n",
       "      <th></th>\n",
       "      <th></th>\n",
       "    </tr>\n",
       "  </thead>\n",
       "  <tbody>\n",
       "    <tr>\n",
       "      <th>NonSleepers</th>\n",
       "      <td>9634.743017</td>\n",
       "      <td>6.772458</td>\n",
       "      <td>32.972067</td>\n",
       "      <td>24.134078</td>\n",
       "      <td>213.435754</td>\n",
       "      <td>752.938547</td>\n",
       "      <td>2463.575419</td>\n",
       "      <td>359.424581</td>\n",
       "    </tr>\n",
       "    <tr>\n",
       "      <th>Sleepers</th>\n",
       "      <td>8124.918367</td>\n",
       "      <td>5.773776</td>\n",
       "      <td>20.474490</td>\n",
       "      <td>13.801020</td>\n",
       "      <td>231.673469</td>\n",
       "      <td>661.005102</td>\n",
       "      <td>2409.903061</td>\n",
       "      <td>496.984694</td>\n",
       "    </tr>\n",
       "  </tbody>\n",
       "</table>\n",
       "</div>"
      ],
      "text/plain": [
       "              TotalSteps  TotalDistance  VeryActiveMinutes  \\\n",
       "type                                                         \n",
       "NonSleepers  9634.743017       6.772458          32.972067   \n",
       "Sleepers     8124.918367       5.773776          20.474490   \n",
       "\n",
       "             FairlyActiveMinutes  LightlyActiveMinutes  SedentaryMinutes  \\\n",
       "type                                                                       \n",
       "NonSleepers            24.134078            213.435754        752.938547   \n",
       "Sleepers               13.801020            231.673469        661.005102   \n",
       "\n",
       "                Calories  TotalMinutesAsleep  \n",
       "type                                          \n",
       "NonSleepers  2463.575419          359.424581  \n",
       "Sleepers     2409.903061          496.984694  "
      ]
     },
     "execution_count": 32,
     "metadata": {},
     "output_type": "execute_result"
    }
   ],
   "source": [
    "df_merged.groupby(['type']).mean()"
   ]
  },
  {
   "cell_type": "markdown",
   "id": "8425159c",
   "metadata": {},
   "source": [
    "Primero, con respecto al consumo de calorias, visualizamos y comprobamos la homocedasticidad mediante la priueba de levenne."
   ]
  },
  {
   "cell_type": "code",
   "execution_count": 33,
   "id": "f94458d2",
   "metadata": {},
   "outputs": [
    {
     "data": {
      "text/plain": [
       "<AxesSubplot:xlabel='type', ylabel='Calories'>"
      ]
     },
     "execution_count": 33,
     "metadata": {},
     "output_type": "execute_result"
    },
    {
     "data": {
      "image/png": "[encoded data removed]",
      "text/plain": [
       "<Figure size 432x288 with 1 Axes>"
      ]
     },
     "metadata": {
      "needs_background": "light"
     },
     "output_type": "display_data"
    }
   ],
   "source": [
    "sns.boxplot(x='type', y='Calories', data=df_merged)"
   ]
  },
  {
   "cell_type": "code",
   "execution_count": 34,
   "id": "fa712b3f",
   "metadata": {},
   "outputs": [
    {
     "data": {
      "text/plain": [
       "LeveneResult(statistic=1.1920062563925338, pvalue=0.27562994544299396)"
      ]
     },
     "execution_count": 34,
     "metadata": {},
     "output_type": "execute_result"
    }
   ],
   "source": [
    "Cal_sleep = df_merged.loc[df_merged.type == 'Sleepers', 'Calories']\n",
    "Cal_nonsleep = df_merged.loc[df_merged.type == 'NonSleepers', 'Calories']\n",
    "\n",
    "Cal_test = stats.levene(Cal_sleep, Cal_nonsleep)\n",
    "Cal_test"
   ]
  },
  {
   "cell_type": "markdown",
   "id": "65fadc15",
   "metadata": {},
   "source": [
    "En efecto, vemos que no podemos rechazar la hipotesis nula por lo que podemos asumir homocedasticidad en los datos. A continuacion comprobamos si existe significancia estadistica mediante un t test."
   ]
  },
  {
   "cell_type": "code",
   "execution_count": 35,
   "id": "0cbe3b55",
   "metadata": {},
   "outputs": [
    {
     "data": {
      "text/plain": [
       "Ttest_indResult(statistic=-0.6987471664318555, pvalue=0.4851454876279291)"
      ]
     },
     "execution_count": 35,
     "metadata": {},
     "output_type": "execute_result"
    }
   ],
   "source": [
    "stats.ttest_ind(Cal_sleep, Cal_nonsleep)"
   ]
  },
  {
   "cell_type": "markdown",
   "id": "99945b31",
   "metadata": {},
   "source": [
    "Coomo era previsible, no existe diferencia estadistica"
   ]
  },
  {
   "cell_type": "markdown",
   "id": "6a22508a",
   "metadata": {},
   "source": [
    "Ahora realizamos un proceso analogo con respecto a los minutos de actividad sedentaria."
   ]
  },
  {
   "cell_type": "code",
   "execution_count": 36,
   "id": "77d43b10",
   "metadata": {},
   "outputs": [
    {
     "data": {
      "text/plain": [
       "<AxesSubplot:xlabel='type', ylabel='SedentaryMinutes'>"
      ]
     },
     "execution_count": 36,
     "metadata": {},
     "output_type": "execute_result"
    },
    {
     "data": {
      "image/png": "[encoded data removed]",
      "text/plain": [
       "<Figure size 432x288 with 1 Axes>"
      ]
     },
     "metadata": {
      "needs_background": "light"
     },
     "output_type": "display_data"
    }
   ],
   "source": [
    "sns.boxplot(x='type', y='SedentaryMinutes', data=df_merged)"
   ]
  },
  {
   "cell_type": "code",
   "execution_count": 37,
   "id": "48b417d5",
   "metadata": {},
   "outputs": [
    {
     "data": {
      "text/plain": [
       "LeveneResult(statistic=3.2398647517906918, pvalue=0.07267448128980902)"
      ]
     },
     "execution_count": 37,
     "metadata": {},
     "output_type": "execute_result"
    }
   ],
   "source": [
    "Sed_sleep = df_merged.loc[df_merged.type == 'Sleepers', 'SedentaryMinutes']\n",
    "Sed_nonsleep = df_merged.loc[df_merged.type == 'NonSleepers', 'SedentaryMinutes']\n",
    "\n",
    "Sed_test = stats.levene(Sed_sleep, Sed_nonsleep, center='median')\n",
    "Sed_test"
   ]
  },
  {
   "cell_type": "markdown",
   "id": "8564cbfe",
   "metadata": {},
   "source": [
    "Podemos asumir homocedasticidad en los datos. Realizamos la prueba T"
   ]
  },
  {
   "cell_type": "code",
   "execution_count": 38,
   "id": "991526f2",
   "metadata": {},
   "outputs": [
    {
     "data": {
      "text/plain": [
       "Ttest_indResult(statistic=-8.081644553796927, pvalue=8.989300176299431e-15)"
      ]
     },
     "execution_count": 38,
     "metadata": {},
     "output_type": "execute_result"
    }
   ],
   "source": [
    "stats.ttest_ind(Sed_sleep, Sed_nonsleep)"
   ]
  },
  {
   "cell_type": "markdown",
   "id": "f18053c3",
   "metadata": {},
   "source": [
    "En este caso, con un P-valor inferior a 0.05 si podemos asumir una diferencia estadisticament significativa entre las horas de sueno y el tiempo dedicado a actividades sedentarias."
   ]
  },
  {
   "cell_type": "markdown",
   "id": "eda05616",
   "metadata": {},
   "source": [
    "### 6 Resolucion y conclusiones"
   ]
  },
  {
   "cell_type": "markdown",
   "id": "087d5545",
   "metadata": {},
   "source": [
    "A pesar de que la pregunta inicial no ha podido ser respondida ya que no hemos encontrado relevancia estadistica entre las calorias consumidas y las horas de sueno. Este estudio, con unos datos ciertamente limitados, nos ha permitido vislumbrar un fenomeno del que no sospechabamos al inicio, y es que si bien, las horas de sueno no necesariamente afectan al consumo de calorias, si que podemos establecer una relacion entre las horas de sueno y las horas dedicadas a actividades sedentarias. Esto podria tener una conclusion clara, a saber, que la falta de sueno promueve el sedentarismo. Dado lo limitado de los datos de inicio, no deberiamos llegar a conclusiones de forma tan precipitada, no obstante, ser conscientes de dicho fenomeno nos puede ayudar a definir futuras investigaciones con diferentes conjuntos de datos que traten del mismo tema."
   ]
  },
  {
   "cell_type": "code",
   "execution_count": 39,
   "id": "c44b21d0",
   "metadata": {},
   "outputs": [],
   "source": []
  }
 ],
 "metadata": {
  "kernelspec": {
   "display_name": "Python 3 (ipykernel)",
   "language": "python",
   "name": "python3"
  },
  "language_info": {
   "codemirror_mode": {
    "name": "ipython",
    "version": 3
   },
   "file_extension": ".py",
   "mimetype": "text/x-python",
   "name": "python",
   "nbconvert_exporter": "python",
   "pygments_lexer": "ipython3",
   "version": "3.8.8"
  }
 },
 "nbformat": 4,
 "nbformat_minor": 5
}
